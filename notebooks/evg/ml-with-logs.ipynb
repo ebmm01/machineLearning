{
 "cells": [
  {
   "cell_type": "code",
   "execution_count": 1,
   "metadata": {},
   "outputs": [],
   "source": [
    "import numpy as np\n",
    "import pandas as pd\n",
    "import matplotlib.pyplot as plt\n",
    "\n",
    "DEBUG = False\n",
    "SUBSET_DIAS = 30"
   ]
  },
  {
   "cell_type": "markdown",
   "metadata": {},
   "source": [
    "## Tratando os dados"
   ]
  },
  {
   "cell_type": "markdown",
   "metadata": {},
   "source": [
    "### Importando o dataset e removendo colunas não necessárias"
   ]
  },
  {
   "cell_type": "code",
   "execution_count": 2,
   "metadata": {},
   "outputs": [
    {
     "data": {
      "text/html": [
       "<div>\n",
       "<style scoped>\n",
       "    .dataframe tbody tr th:only-of-type {\n",
       "        vertical-align: middle;\n",
       "    }\n",
       "\n",
       "    .dataframe tbody tr th {\n",
       "        vertical-align: top;\n",
       "    }\n",
       "\n",
       "    .dataframe thead th {\n",
       "        text-align: right;\n",
       "    }\n",
       "</style>\n",
       "<table border=\"1\" class=\"dataframe\">\n",
       "  <thead>\n",
       "    <tr style=\"text-align: right;\">\n",
       "      <th></th>\n",
       "      <th>index</th>\n",
       "      <th>id_inscricao</th>\n",
       "      <th>dt_inscricao</th>\n",
       "      <th>dt_fim_inscricao</th>\n",
       "      <th>sg_uf</th>\n",
       "      <th>tp_sexo</th>\n",
       "      <th>dt_nascimento</th>\n",
       "      <th>sg_pais</th>\n",
       "      <th>id_oferta_x</th>\n",
       "      <th>id_curso</th>\n",
       "      <th>...</th>\n",
       "      <th>acesso_dia_21</th>\n",
       "      <th>acesso_dia_22</th>\n",
       "      <th>acesso_dia_23</th>\n",
       "      <th>acesso_dia_24</th>\n",
       "      <th>acesso_dia_25</th>\n",
       "      <th>acesso_dia_26</th>\n",
       "      <th>acesso_dia_27</th>\n",
       "      <th>acesso_dia_28</th>\n",
       "      <th>acesso_dia_29</th>\n",
       "      <th>acesso_dia_30</th>\n",
       "    </tr>\n",
       "  </thead>\n",
       "  <tbody>\n",
       "    <tr>\n",
       "      <th>0</th>\n",
       "      <td>0</td>\n",
       "      <td>92</td>\n",
       "      <td>2018-02-19 00:00:00</td>\n",
       "      <td>2018-03-12 07:42:00</td>\n",
       "      <td>MG</td>\n",
       "      <td>F</td>\n",
       "      <td>1958-07-28</td>\n",
       "      <td>NaN</td>\n",
       "      <td>26</td>\n",
       "      <td>74</td>\n",
       "      <td>...</td>\n",
       "      <td>0.0</td>\n",
       "      <td>0.0</td>\n",
       "      <td>0.0</td>\n",
       "      <td>0.0</td>\n",
       "      <td>0.0</td>\n",
       "      <td>0.0</td>\n",
       "      <td>0.0</td>\n",
       "      <td>0.0</td>\n",
       "      <td>0.0</td>\n",
       "      <td>0.0</td>\n",
       "    </tr>\n",
       "    <tr>\n",
       "      <th>1</th>\n",
       "      <td>1</td>\n",
       "      <td>94</td>\n",
       "      <td>2018-02-19 00:00:00</td>\n",
       "      <td>2018-03-12 07:59:00</td>\n",
       "      <td>RJ</td>\n",
       "      <td>M</td>\n",
       "      <td>1973-06-15</td>\n",
       "      <td>NaN</td>\n",
       "      <td>26</td>\n",
       "      <td>74</td>\n",
       "      <td>...</td>\n",
       "      <td>0.0</td>\n",
       "      <td>0.0</td>\n",
       "      <td>0.0</td>\n",
       "      <td>0.0</td>\n",
       "      <td>0.0</td>\n",
       "      <td>0.0</td>\n",
       "      <td>0.0</td>\n",
       "      <td>0.0</td>\n",
       "      <td>0.0</td>\n",
       "      <td>0.0</td>\n",
       "    </tr>\n",
       "    <tr>\n",
       "      <th>2</th>\n",
       "      <td>2</td>\n",
       "      <td>97</td>\n",
       "      <td>2018-02-19 00:00:00</td>\n",
       "      <td>2018-03-12 08:44:00</td>\n",
       "      <td>MG</td>\n",
       "      <td>F</td>\n",
       "      <td>1949-06-19</td>\n",
       "      <td>NaN</td>\n",
       "      <td>26</td>\n",
       "      <td>74</td>\n",
       "      <td>...</td>\n",
       "      <td>0.0</td>\n",
       "      <td>0.0</td>\n",
       "      <td>0.0</td>\n",
       "      <td>0.0</td>\n",
       "      <td>0.0</td>\n",
       "      <td>0.0</td>\n",
       "      <td>0.0</td>\n",
       "      <td>0.0</td>\n",
       "      <td>0.0</td>\n",
       "      <td>0.0</td>\n",
       "    </tr>\n",
       "    <tr>\n",
       "      <th>3</th>\n",
       "      <td>3</td>\n",
       "      <td>106</td>\n",
       "      <td>2018-02-19 00:00:00</td>\n",
       "      <td>2018-03-12 09:45:00</td>\n",
       "      <td>DF</td>\n",
       "      <td>M</td>\n",
       "      <td>1984-10-07</td>\n",
       "      <td>NaN</td>\n",
       "      <td>26</td>\n",
       "      <td>74</td>\n",
       "      <td>...</td>\n",
       "      <td>0.0</td>\n",
       "      <td>0.0</td>\n",
       "      <td>0.0</td>\n",
       "      <td>0.0</td>\n",
       "      <td>0.0</td>\n",
       "      <td>0.0</td>\n",
       "      <td>0.0</td>\n",
       "      <td>0.0</td>\n",
       "      <td>0.0</td>\n",
       "      <td>0.0</td>\n",
       "    </tr>\n",
       "    <tr>\n",
       "      <th>4</th>\n",
       "      <td>4</td>\n",
       "      <td>109</td>\n",
       "      <td>2018-02-19 00:00:00</td>\n",
       "      <td>2018-03-12 10:08:00</td>\n",
       "      <td>TO</td>\n",
       "      <td>F</td>\n",
       "      <td>1978-04-13</td>\n",
       "      <td>NaN</td>\n",
       "      <td>26</td>\n",
       "      <td>74</td>\n",
       "      <td>...</td>\n",
       "      <td>0.0</td>\n",
       "      <td>0.0</td>\n",
       "      <td>0.0</td>\n",
       "      <td>0.0</td>\n",
       "      <td>0.0</td>\n",
       "      <td>0.0</td>\n",
       "      <td>0.0</td>\n",
       "      <td>0.0</td>\n",
       "      <td>0.0</td>\n",
       "      <td>0.0</td>\n",
       "    </tr>\n",
       "    <tr>\n",
       "      <th>...</th>\n",
       "      <td>...</td>\n",
       "      <td>...</td>\n",
       "      <td>...</td>\n",
       "      <td>...</td>\n",
       "      <td>...</td>\n",
       "      <td>...</td>\n",
       "      <td>...</td>\n",
       "      <td>...</td>\n",
       "      <td>...</td>\n",
       "      <td>...</td>\n",
       "      <td>...</td>\n",
       "      <td>...</td>\n",
       "      <td>...</td>\n",
       "      <td>...</td>\n",
       "      <td>...</td>\n",
       "      <td>...</td>\n",
       "      <td>...</td>\n",
       "      <td>...</td>\n",
       "      <td>...</td>\n",
       "      <td>...</td>\n",
       "      <td>...</td>\n",
       "    </tr>\n",
       "    <tr>\n",
       "      <th>79609</th>\n",
       "      <td>79609</td>\n",
       "      <td>553927</td>\n",
       "      <td>2019-02-27 22:39:00</td>\n",
       "      <td>2019-03-29 23:59:00</td>\n",
       "      <td>MG</td>\n",
       "      <td>F</td>\n",
       "      <td>1978-12-22</td>\n",
       "      <td>BR</td>\n",
       "      <td>852</td>\n",
       "      <td>74</td>\n",
       "      <td>...</td>\n",
       "      <td>NaN</td>\n",
       "      <td>NaN</td>\n",
       "      <td>NaN</td>\n",
       "      <td>NaN</td>\n",
       "      <td>NaN</td>\n",
       "      <td>NaN</td>\n",
       "      <td>NaN</td>\n",
       "      <td>NaN</td>\n",
       "      <td>NaN</td>\n",
       "      <td>NaN</td>\n",
       "    </tr>\n",
       "    <tr>\n",
       "      <th>79610</th>\n",
       "      <td>79610</td>\n",
       "      <td>553937</td>\n",
       "      <td>2019-02-27 22:37:00</td>\n",
       "      <td>2019-03-29 23:59:00</td>\n",
       "      <td>RN</td>\n",
       "      <td>F</td>\n",
       "      <td>1967-05-20</td>\n",
       "      <td>BR</td>\n",
       "      <td>852</td>\n",
       "      <td>74</td>\n",
       "      <td>...</td>\n",
       "      <td>NaN</td>\n",
       "      <td>NaN</td>\n",
       "      <td>NaN</td>\n",
       "      <td>NaN</td>\n",
       "      <td>NaN</td>\n",
       "      <td>NaN</td>\n",
       "      <td>NaN</td>\n",
       "      <td>NaN</td>\n",
       "      <td>NaN</td>\n",
       "      <td>NaN</td>\n",
       "    </tr>\n",
       "    <tr>\n",
       "      <th>79611</th>\n",
       "      <td>79611</td>\n",
       "      <td>553995</td>\n",
       "      <td>2019-02-27 23:57:00</td>\n",
       "      <td>2019-03-29 23:59:00</td>\n",
       "      <td>AL</td>\n",
       "      <td>M</td>\n",
       "      <td>1981-08-02</td>\n",
       "      <td>BR</td>\n",
       "      <td>852</td>\n",
       "      <td>74</td>\n",
       "      <td>...</td>\n",
       "      <td>NaN</td>\n",
       "      <td>NaN</td>\n",
       "      <td>NaN</td>\n",
       "      <td>NaN</td>\n",
       "      <td>NaN</td>\n",
       "      <td>NaN</td>\n",
       "      <td>NaN</td>\n",
       "      <td>NaN</td>\n",
       "      <td>NaN</td>\n",
       "      <td>NaN</td>\n",
       "    </tr>\n",
       "    <tr>\n",
       "      <th>79612</th>\n",
       "      <td>79612</td>\n",
       "      <td>554003</td>\n",
       "      <td>2019-02-27 23:57:00</td>\n",
       "      <td>2019-03-29 23:59:00</td>\n",
       "      <td>PE</td>\n",
       "      <td>M</td>\n",
       "      <td>1983-11-20</td>\n",
       "      <td>BR</td>\n",
       "      <td>852</td>\n",
       "      <td>74</td>\n",
       "      <td>...</td>\n",
       "      <td>NaN</td>\n",
       "      <td>NaN</td>\n",
       "      <td>NaN</td>\n",
       "      <td>NaN</td>\n",
       "      <td>NaN</td>\n",
       "      <td>NaN</td>\n",
       "      <td>NaN</td>\n",
       "      <td>NaN</td>\n",
       "      <td>NaN</td>\n",
       "      <td>NaN</td>\n",
       "    </tr>\n",
       "    <tr>\n",
       "      <th>79613</th>\n",
       "      <td>79613</td>\n",
       "      <td>554006</td>\n",
       "      <td>2019-02-28 00:01:00</td>\n",
       "      <td>2019-03-30 23:59:00</td>\n",
       "      <td>RN</td>\n",
       "      <td>F</td>\n",
       "      <td>1975-01-30</td>\n",
       "      <td>BR</td>\n",
       "      <td>852</td>\n",
       "      <td>74</td>\n",
       "      <td>...</td>\n",
       "      <td>NaN</td>\n",
       "      <td>NaN</td>\n",
       "      <td>NaN</td>\n",
       "      <td>NaN</td>\n",
       "      <td>NaN</td>\n",
       "      <td>NaN</td>\n",
       "      <td>NaN</td>\n",
       "      <td>NaN</td>\n",
       "      <td>NaN</td>\n",
       "      <td>NaN</td>\n",
       "    </tr>\n",
       "  </tbody>\n",
       "</table>\n",
       "<p>79614 rows × 106 columns</p>\n",
       "</div>"
      ],
      "text/plain": [
       "       index  id_inscricao         dt_inscricao     dt_fim_inscricao sg_uf  \\\n",
       "0          0            92  2018-02-19 00:00:00  2018-03-12 07:42:00    MG   \n",
       "1          1            94  2018-02-19 00:00:00  2018-03-12 07:59:00    RJ   \n",
       "2          2            97  2018-02-19 00:00:00  2018-03-12 08:44:00    MG   \n",
       "3          3           106  2018-02-19 00:00:00  2018-03-12 09:45:00    DF   \n",
       "4          4           109  2018-02-19 00:00:00  2018-03-12 10:08:00    TO   \n",
       "...      ...           ...                  ...                  ...   ...   \n",
       "79609  79609        553927  2019-02-27 22:39:00  2019-03-29 23:59:00    MG   \n",
       "79610  79610        553937  2019-02-27 22:37:00  2019-03-29 23:59:00    RN   \n",
       "79611  79611        553995  2019-02-27 23:57:00  2019-03-29 23:59:00    AL   \n",
       "79612  79612        554003  2019-02-27 23:57:00  2019-03-29 23:59:00    PE   \n",
       "79613  79613        554006  2019-02-28 00:01:00  2019-03-30 23:59:00    RN   \n",
       "\n",
       "      tp_sexo dt_nascimento sg_pais  id_oferta_x  id_curso  ...  \\\n",
       "0           F    1958-07-28     NaN           26        74  ...   \n",
       "1           M    1973-06-15     NaN           26        74  ...   \n",
       "2           F    1949-06-19     NaN           26        74  ...   \n",
       "3           M    1984-10-07     NaN           26        74  ...   \n",
       "4           F    1978-04-13     NaN           26        74  ...   \n",
       "...       ...           ...     ...          ...       ...  ...   \n",
       "79609       F    1978-12-22      BR          852        74  ...   \n",
       "79610       F    1967-05-20      BR          852        74  ...   \n",
       "79611       M    1981-08-02      BR          852        74  ...   \n",
       "79612       M    1983-11-20      BR          852        74  ...   \n",
       "79613       F    1975-01-30      BR          852        74  ...   \n",
       "\n",
       "       acesso_dia_21  acesso_dia_22 acesso_dia_23 acesso_dia_24 acesso_dia_25  \\\n",
       "0                0.0            0.0           0.0           0.0           0.0   \n",
       "1                0.0            0.0           0.0           0.0           0.0   \n",
       "2                0.0            0.0           0.0           0.0           0.0   \n",
       "3                0.0            0.0           0.0           0.0           0.0   \n",
       "4                0.0            0.0           0.0           0.0           0.0   \n",
       "...              ...            ...           ...           ...           ...   \n",
       "79609            NaN            NaN           NaN           NaN           NaN   \n",
       "79610            NaN            NaN           NaN           NaN           NaN   \n",
       "79611            NaN            NaN           NaN           NaN           NaN   \n",
       "79612            NaN            NaN           NaN           NaN           NaN   \n",
       "79613            NaN            NaN           NaN           NaN           NaN   \n",
       "\n",
       "      acesso_dia_26 acesso_dia_27  acesso_dia_28  acesso_dia_29  acesso_dia_30  \n",
       "0               0.0           0.0            0.0            0.0            0.0  \n",
       "1               0.0           0.0            0.0            0.0            0.0  \n",
       "2               0.0           0.0            0.0            0.0            0.0  \n",
       "3               0.0           0.0            0.0            0.0            0.0  \n",
       "4               0.0           0.0            0.0            0.0            0.0  \n",
       "...             ...           ...            ...            ...            ...  \n",
       "79609           NaN           NaN            NaN            NaN            NaN  \n",
       "79610           NaN           NaN            NaN            NaN            NaN  \n",
       "79611           NaN           NaN            NaN            NaN            NaN  \n",
       "79612           NaN           NaN            NaN            NaN            NaN  \n",
       "79613           NaN           NaN            NaN            NaN            NaN  \n",
       "\n",
       "[79614 rows x 106 columns]"
      ]
     },
     "execution_count": 2,
     "metadata": {},
     "output_type": "execute_result"
    }
   ],
   "source": [
    "dataset_original = pd.read_csv('data/sei.csv')\n",
    "logs = pd.read_csv('logs/out/logs-completo.csv', index_col=0)\n",
    "\n",
    "dataset = dataset_original.merge(logs, how='left', left_on='id_inscricao', right_on='id_inscricao')\n",
    "dataset"
   ]
  },
  {
   "cell_type": "code",
   "execution_count": 3,
   "metadata": {},
   "outputs": [],
   "source": [
    "\"\"\"\n",
    "Para isso, inicialmente iremos melhorar os dados do nosso dataset, removendo alguns atributos considerados \n",
    "desnecessários. Primeiramente removeremos os atributos referentes às notas máximas de determinada atividade,\n",
    "visto que esse valor sempre será 100.\n",
    "\"\"\"\n",
    "\n",
    "\"\"\"\n",
    "30/03 \n",
    "Alguns dados defeituosos serão removidos para que não influenciem negativamente os testes\n",
    "\n",
    "165 => Fez as atividades mas algumas passaram de 1 mês\n",
    "\"\"\"\n",
    "dataset.drop(index=[165])\n",
    "\n",
    "# Filtramos todas as colunas do dataset que possuem o valor da nota máxima da atividade X:\n",
    "notas_maximas_a_remover = dataset.filter(like='nota_maxima_atividade')\n",
    "\n",
    "\n",
    "# Filtramos também alguns índices e id's que não serão necessários no momento\n",
    "indices_e_ids_a_remover = [\n",
    "    \"index\", \n",
    "     \"id_inscricao\", \n",
    "     \"id_oferta_x\", \n",
    "     \"id_curso\", \n",
    "     \"qt_carga_horaria_oferta\",\n",
    "     \"qt_duracao_dias\",\n",
    "     \"id_pessoa\",\n",
    "     \"nota_maxima_curso\",\n",
    "     \"tx_nome_orgao\"\n",
    "]\n",
    "\n",
    "# E também algumas datas que podem não ser muito úteis num momento inicial\n",
    "datas_a_remover = [\n",
    "    \"dt_fim_inscricao\",\n",
    "    \"dt_nascimento\"\n",
    "]\n",
    "\n",
    "dataset = dataset.drop(\n",
    "    [*indices_e_ids_a_remover, *datas_a_remover,  *list(notas_maximas_a_remover), \"nota_final_aluno_curso\", \"data_termino_curso_aluno\"], \n",
    "    axis=1\n",
    ")\n",
    "\n",
    "# E iremos alterar os valores do 'sit_matricula'\n",
    "dataset = dataset.replace({\"CERTIFICADO\": \"APROVADO\", \"CANC_DESISTENTE\": \"TRANCAMENTO\"})"
   ]
  },
  {
   "cell_type": "markdown",
   "metadata": {},
   "source": [
    "### Tratando as datas"
   ]
  },
  {
   "cell_type": "code",
   "execution_count": 4,
   "metadata": {},
   "outputs": [],
   "source": [
    "\"\"\"\n",
    "Para podemos calcular os dias temos que antes trabalhar as linhas que não possuem valores (NaN).\n",
    "Poderíamos remover as linhas com esses valores, mas isso reduziria consideravelmente o tamanho do nosso dataset.\n",
    "Então iremos por outra abordagem: inserir um valor padrão nessas linhas. Será inserida o datetime \n",
    "\"2000-01-01 00:00\"\n",
    "\"\"\"\n",
    "\n",
    "# Preenchemos todos as entradas com  '2000-01-01 00:00' no lugar de 'nan' \n",
    "def insert_default_date_time(dataset):\n",
    "    datas_a_inserir = dataset.filter(like='data_entrega_atividade_')\n",
    "    datas_a_inserir = datas_a_inserir.fillna(pd.to_datetime(\"2000-01-01 00:00:00\"))\n",
    "    dataset.fillna(datas_a_inserir, inplace=True)\n",
    "    return dataset\n",
    "\n",
    "# Convertemos os campos de datas em date_times:\n",
    "def convert_columns_to_date_time(dataset, columns_name):\n",
    "    date_time_columns = pd.to_datetime(dataset[[*columns_name]].stack(), dayfirst=True)\n",
    "    date_time_columns = date_time_columns.dt.normalize()\n",
    "    dataset[[*columns_name]] = date_time_columns.unstack()\n",
    "    return dataset\n",
    "\n",
    "\n",
    "dataset = insert_default_date_time(dataset)\n",
    "\n",
    "date_columns = [*list(dataset.filter(like='data_entrega_atividade_')), \"dt_inscricao\"]\n",
    "\n",
    "dataset = convert_columns_to_date_time(dataset, date_columns)"
   ]
  },
  {
   "cell_type": "markdown",
   "metadata": {},
   "source": [
    "### Adicionando dias entre atividade X e matrícula"
   ]
  },
  {
   "cell_type": "code",
   "execution_count": 5,
   "metadata": {},
   "outputs": [],
   "source": [
    "\"\"\"\n",
    "Após preenchermos os campos de datas com valores padrões nas linhas que não tinham valor algum, enfim podemos\n",
    "inserir as novas colunas que contém a contagem de dias entre a efetivação da matricula e a relização da tarefa X\n",
    "\"\"\"\n",
    "\n",
    "# Criamos uma função que irá fazer esse cálculo e retornar um dataframe com as novas colunas\n",
    "def calculate_dates_between(df_initial_date, df_list_of_dates, columns_name):\n",
    "    # Geramos um novo dataframe que irá comportar as diferenças entre as datas\n",
    "    df_dates_between = pd.DataFrame()\n",
    "\n",
    "    # Fazemos o calculo das diferenãs entre datas, inserindo no dataframe criado acima\n",
    "    for index, item in enumerate(df_list_of_dates):\n",
    "        df_dates_between[f'{columns_name}_{index+1}'] = (df_list_of_dates[item] - df_initial_date).dt.days\n",
    "    \n",
    "    # E setamos todos os valores < 0  = -1\n",
    "    df_dates_between = df_dates_between.clip(lower=-1)\n",
    "\n",
    "    return df_dates_between\n",
    "\n",
    "initial_date = dataset[\"dt_inscricao\"]\n",
    "list_of_dates = dataset.filter(like='data_entrega_atividade_')\n",
    "\n",
    "dif_between_dates = calculate_dates_between(\n",
    "    initial_date, \n",
    "    list_of_dates, \n",
    "    columns_name='dias_atividade',\n",
    ")\n",
    "\n",
    "# Por fim, inserimos essas novas colunas no nosso df_filtrado:\n",
    "dataset[[*list(dif_between_dates)]] = dif_between_dates\n",
    "dataset = dataset.drop([*list_of_dates.columns], axis=1)"
   ]
  },
  {
   "cell_type": "code",
   "execution_count": 6,
   "metadata": {},
   "outputs": [],
   "source": [
    "n_dias = [1, SUBSET_DIAS + 1]"
   ]
  },
  {
   "cell_type": "markdown",
   "metadata": {},
   "source": [
    "### Populando com colunas de atividades feitas até o dia N"
   ]
  },
  {
   "cell_type": "code",
   "execution_count": 7,
   "metadata": {},
   "outputs": [],
   "source": [
    "\"\"\"\n",
    "Como temos agora as colunas com os dias entre matricula e realização de atividades, podemos calcular o número\n",
    "de atividades feitas até N dias. Para isso criaremos outra função:\n",
    "\"\"\"\n",
    "\n",
    "def populate_by_range_days(dataset, n_dias, column_name = 'atividades_ate_dia_'):\n",
    "    for i in range(*n_dias):\n",
    "        dias_atividades = dataset.filter(like=\"dias_atividade\")\n",
    "        dias_atividades = dias_atividades[(dias_atividades <= i) & (dias_atividades != -1)].replace({0: True})\n",
    "        dias_atividades = dias_atividades.fillna(False)\n",
    "        dias_atividades = dias_atividades.astype('bool')\n",
    "        dataset[f\"atividades_ate_dia_{i}\"] = dias_atividades.sum(axis=1)\n",
    "    return dataset\n",
    "\n",
    "\n",
    "dataset = populate_by_range_days(dataset, n_dias=n_dias)\n",
    "\n",
    "\"\"\"\n",
    "Como a data de inscrição já não importa mais, iremos remover ela também.\n",
    "\"\"\"\n",
    "dataset = dataset.drop(\"dt_inscricao\", axis=1)"
   ]
  },
  {
   "cell_type": "markdown",
   "metadata": {},
   "source": [
    "### Tratando dados faltantes"
   ]
  },
  {
   "cell_type": "code",
   "execution_count": 8,
   "metadata": {},
   "outputs": [],
   "source": [
    "#Para as notas, podemos assumir que valores nulos são atividades não feitas. dessas forma:\n",
    "dataset[dataset.filter(like='nota_aluno_atividade').columns] = dataset.filter(like='nota_aluno_atividade').fillna(0)\n",
    "\n",
    "# Para as demais simplesmente inserimos 'sem_{}'\n",
    "dataset['sg_uf'] = dataset['sg_uf'].fillna('sem_uf')\n",
    "dataset['tp_poder_execut_legisl_judic'] = dataset['tp_poder_execut_legisl_judic'].fillna('sem_tp_poder')\n",
    "dataset['esfera'] = dataset['esfera'].fillna('sem_esfera')\n",
    "dataset['sg_pais'] = dataset['sg_pais'].fillna('sem_pais')\n",
    "\n",
    "# Removo todas as linhas que não possuem valores nas colunas de acesso até determinado dia\n",
    "dataset = dataset.dropna(subset=[f'acesso_dia_{n}' for n in range(31)])"
   ]
  },
  {
   "cell_type": "markdown",
   "metadata": {},
   "source": [
    "### Fazendo o encode no dataset "
   ]
  },
  {
   "cell_type": "code",
   "execution_count": 9,
   "metadata": {},
   "outputs": [],
   "source": [
    "matricula = dataset['sit_matricula']\n",
    "\n",
    "columns_to_encode = [\n",
    "    'sg_uf', \n",
    "    'tp_sexo', \n",
    "    'sg_pais', \n",
    "    'sit_matricula',\n",
    "    'tp_servidor_militar_cidadao',\n",
    "    'tp_poder_execut_legisl_judic',\n",
    "    'esfera'\n",
    "]\n",
    "\n",
    "def gnumeric_func (data, columns):\n",
    "    data[columns] = data[columns].apply(lambda x: pd.factorize(x)[0])\n",
    "    return data\n",
    "\n",
    "dataset = gnumeric_func(dataset, columns_to_encode)\n",
    "\n",
    "ohe_df = pd.DataFrame({\"resultado\": dataset['sit_matricula']})\n",
    "\n",
    "dataset = pd.concat([dataset, ohe_df], axis=1)\n",
    "resultados = dataset.filter(like=\"sit_matricula_\")\n",
    "\n",
    "dataset = dataset.drop(resultados, axis=1).dropna(subset=['resultado'])"
   ]
  },
  {
   "cell_type": "markdown",
   "metadata": {},
   "source": [
    "### Normalizando os dados"
   ]
  },
  {
   "cell_type": "code",
   "execution_count": 10,
   "metadata": {},
   "outputs": [
    {
     "data": {
      "text/plain": [
       "(71164, 105)"
      ]
     },
     "execution_count": 10,
     "metadata": {},
     "output_type": "execute_result"
    }
   ],
   "source": [
    "from sklearn.preprocessing import Normalizer\n",
    "\n",
    "normalizer = Normalizer() \n",
    "\n",
    "dataset_non_scaled = dataset.copy()\n",
    "resultado = dataset['resultado']\n",
    "dataset[dataset.columns] = normalizer.fit_transform(dataset[dataset.columns])\n",
    "dataset['resultado'] = resultado\n",
    "dataset.shape"
   ]
  },
  {
   "cell_type": "code",
   "execution_count": 24,
   "metadata": {
    "scrolled": true
   },
   "outputs": [
    {
     "data": {
      "text/plain": [
       "0    47434\n",
       "1    22638\n",
       "2      689\n",
       "4      395\n",
       "3        8\n",
       "Name: resultado, dtype: int64"
      ]
     },
     "execution_count": 24,
     "metadata": {},
     "output_type": "execute_result"
    }
   ],
   "source": [
    "dataset['resultado'].value_counts()"
   ]
  },
  {
   "cell_type": "markdown",
   "metadata": {},
   "source": [
    "## Treinando e avaliando os dados"
   ]
  },
  {
   "cell_type": "code",
   "execution_count": 12,
   "metadata": {},
   "outputs": [
    {
     "name": "stdout",
     "output_type": "stream",
     "text": [
      "(71164, 104) (71164,)\n"
     ]
    }
   ],
   "source": [
    "dados_filtrados_X = dataset.drop('resultado', axis=1)\n",
    "dados_filtrados_y = dataset['resultado']\n",
    "\n",
    "print(dados_filtrados_X.shape, dados_filtrados_y.shape)"
   ]
  },
  {
   "cell_type": "code",
   "execution_count": 13,
   "metadata": {},
   "outputs": [],
   "source": [
    "import numpy, time\n",
    "from sklearn.metrics import accuracy_score, confusion_matrix\n",
    "from sklearn.model_selection import GridSearchCV\n",
    "\n",
    "result = ['APROVADO', 'ABANDONO', 'TRANCAMENTO', 'REPROVADO', 'DESISTENTE']\n",
    "\n",
    "def train_and_evaluate(alg, treino_x, teste_x, treino_y, teste_y, show_distribuition = False):\n",
    "    start = time.time()\n",
    "    alg.fit(treino_x, treino_y)\n",
    "    previsoes = alg.predict(teste_x)\n",
    "    stop = time.time()\n",
    "\n",
    "    acuracia = accuracy_score(teste_y, previsoes) * 100\n",
    "    print(\"A acurácia foi %.2f%%\" % acuracia)\n",
    "    print(f\"Tempo de execução:: {stop - start}s\")\n",
    "    \n",
    "    show_confusion_matrix(teste_y, previsoes)\n",
    "    \n",
    "    if show_distribuition:\n",
    "        show_previsions_and_results_distribuition(teste_y, previsoes)\n",
    "\n",
    "def show_previsions_and_results_distribuition(teste_y, previsoes):\n",
    "    fig, ax = plt.subplots()\n",
    "    results = dict(zip(*numpy.unique(teste_y.values, return_counts=True)))\n",
    "    predictions = dict(zip(*numpy.unique(previsoes, return_counts=True))) \n",
    "\n",
    "    labels = results.keys()\n",
    "    print(labels)\n",
    "    x = np.arange(len(labels))\n",
    "    width = 0.35\n",
    "\n",
    "    for key in list(results):\n",
    "        results[result[key]] = results[key] \n",
    "        del results[key] \n",
    "        try:\n",
    "            predictions[result[key]] = predictions[key] \n",
    "            del predictions[key] \n",
    "        except KeyError:\n",
    "            predictions[result[key]] = 0                   \n",
    "\n",
    "    print(results)\n",
    "    print(predictions)\n",
    "    rects1 = ax.bar(x - width/2, results.values(), width, label='Resultados')\n",
    "    rects2 = ax.bar(x + width/2, predictions.values(), width, label='Previsões')\n",
    "    ax.set_ylabel('Alunos')\n",
    "    ax.set_title('Alunos por resultado')\n",
    "    ax.set_xticks(x)\n",
    "    ax.set_xticklabels(labels)\n",
    "    ax.set_ymargin(0.5)\n",
    "    ax.legend()\n",
    "    autolabel(rects1, ax)\n",
    "    autolabel(rects2, ax)\n",
    "\n",
    "    fig.tight_layout()\n",
    "\n",
    "    plt.show()\n",
    "\n",
    "def autolabel(rects, ax):\n",
    "    \"\"\"Attach a text label above each bar in *rects*, displaying its height.\"\"\"\n",
    "    for rect in rects:\n",
    "        height = rect.get_height()\n",
    "        ax.annotate('{}'.format(height),\n",
    "                    xy=(rect.get_x() + rect.get_width() / 2, height),\n",
    "                    xytext=(0, 3),  # 3 points vertical offset\n",
    "                    textcoords=\"offset points\",\n",
    "                    ha='center', va='bottom')\n",
    "        \n",
    "def show_confusion_matrix(teste_y, previsoes):\n",
    "    conf_mx = confusion_matrix(teste_y, previsoes)\n",
    "    \n",
    "    \n",
    "    row_sums = conf_mx.sum(axis=1, keepdims=True)\n",
    "    norm_conf_mx = conf_mx / row_sums\n",
    "\n",
    "    # Preenchemos as diagonais com 0's para manter apenas os erros e plotar o resultado:\n",
    "    np.fill_diagonal(norm_conf_mx, 0)\n",
    "    \n",
    "    # Onde as linhas representam as classes reais, e as colunas as classes previstas\n",
    "    plt.matshow(norm_conf_mx, cmap=plt.cm.gray)\n",
    "    xticks = [i for i in range(0, conf_mx.shape[1])]\n",
    "    yticks = [i for i in range(0, conf_mx.shape[0])]\n",
    "    plt.xticks(xticks, result[0:conf_mx.shape[1]], rotation=90)\n",
    "    plt.yticks(yticks, result[0:conf_mx.shape[0]])\n",
    "    plt.show()\n",
    "    \n",
    "def calculate_with_grid_search(alg, param_grid, treino_x, teste_x, treino_y, teste_y):\n",
    "    if DEBUG is False:    \n",
    "        grid_search = GridSearchCV(alg, param_grid = param_grid, cv=5, scoring=\"accuracy\")\n",
    "\n",
    "        grid_search.fit(treino_x, treino_y)\n",
    "\n",
    "        # E obteremos a melhore combinação de parâmetros:\n",
    "        best_params = grid_search.best_params_\n",
    "\n",
    "        cvres = grid_search.cv_results_\n",
    "        for score, params in zip(cvres['mean_test_score'], cvres['params']):\n",
    "            score *= 100\n",
    "            print(\"Precisão: \", score, \"Parametros:\", params)\n",
    "        "
   ]
  },
  {
   "cell_type": "markdown",
   "metadata": {},
   "source": [
    "## Aplicando num subset"
   ]
  },
  {
   "cell_type": "markdown",
   "metadata": {},
   "source": [
    "### Tratando os dados para obter a média das atividades de acordo com o número realizado até n dias"
   ]
  },
  {
   "cell_type": "code",
   "execution_count": 14,
   "metadata": {
    "scrolled": false
   },
   "outputs": [],
   "source": [
    "notas = dataset_non_scaled.filter(like=\"nota_aluno_atividade\")\n",
    "dias = dataset_non_scaled.filter(like=\"dias_atividade\")\n",
    "matriculas = dataset_non_scaled.filter(like=\"id_inscricao\")\n",
    "\n",
    "subset = dataset_non_scaled[[*list(notas), *list(dias), *list(matriculas)]]\n",
    "subset = subset.copy()\n",
    "\n",
    "for index, column in enumerate(subset):\n",
    "    if 'nota_aluno_atividade' in column:\n",
    "        n = column.replace('nota_aluno_atividade_',\"\")\n",
    "        truty = (subset[f\"dias_atividade_{n}\"] <= SUBSET_DIAS) & \\\n",
    "                (subset[f\"dias_atividade_{n}\"] > -1) & \\\n",
    "                (subset[f\"nota_aluno_atividade_{n}\"] > 0)\n",
    "\n",
    "        subset[column] = subset[truty & subset[column]]\n",
    "        \n",
    "        "
   ]
  },
  {
   "cell_type": "markdown",
   "metadata": {},
   "source": [
    "### Inserindo as médias e número de atividades feitas até dia n"
   ]
  },
  {
   "cell_type": "code",
   "execution_count": 15,
   "metadata": {
    "scrolled": false
   },
   "outputs": [],
   "source": [
    "subset = subset.drop(dias, axis=1).fillna(0)\n",
    "notas = subset.filter(like=\"nota_aluno_atividade_\")\n",
    "subset['medias'] = notas.sum(axis=1)\n",
    "\n",
    "subset['medias'] = (subset['medias']/dataset_non_scaled[f\"atividades_ate_dia_{SUBSET_DIAS}\"]).fillna(0)\n",
    "\n",
    "subset[f'atividades_ate_dia_{SUBSET_DIAS}'] = dataset_non_scaled[f\"atividades_ate_dia_{SUBSET_DIAS}\"]\n",
    "subset = subset.drop(notas, axis=1)\n"
   ]
  },
  {
   "cell_type": "code",
   "execution_count": 16,
   "metadata": {},
   "outputs": [],
   "source": [
    "subset[subset.columns] = normalizer.fit_transform(subset[subset.columns])\n",
    "\n",
    "for i in range (SUBSET_DIAS):\n",
    "    subset[f\"acesso_dia_{i+1}\"] = dataset_non_scaled[f\"acesso_dia_{i+1}\"]"
   ]
  },
  {
   "cell_type": "code",
   "execution_count": 17,
   "metadata": {},
   "outputs": [
    {
     "data": {
      "text/html": [
       "<div>\n",
       "<style scoped>\n",
       "    .dataframe tbody tr th:only-of-type {\n",
       "        vertical-align: middle;\n",
       "    }\n",
       "\n",
       "    .dataframe tbody tr th {\n",
       "        vertical-align: top;\n",
       "    }\n",
       "\n",
       "    .dataframe thead th {\n",
       "        text-align: right;\n",
       "    }\n",
       "</style>\n",
       "<table border=\"1\" class=\"dataframe\">\n",
       "  <thead>\n",
       "    <tr style=\"text-align: right;\">\n",
       "      <th></th>\n",
       "      <th>medias</th>\n",
       "      <th>atividades_ate_dia_30</th>\n",
       "      <th>acesso_dia_1</th>\n",
       "      <th>acesso_dia_2</th>\n",
       "      <th>acesso_dia_3</th>\n",
       "      <th>acesso_dia_4</th>\n",
       "      <th>acesso_dia_5</th>\n",
       "      <th>acesso_dia_6</th>\n",
       "      <th>acesso_dia_7</th>\n",
       "      <th>acesso_dia_8</th>\n",
       "      <th>...</th>\n",
       "      <th>acesso_dia_21</th>\n",
       "      <th>acesso_dia_22</th>\n",
       "      <th>acesso_dia_23</th>\n",
       "      <th>acesso_dia_24</th>\n",
       "      <th>acesso_dia_25</th>\n",
       "      <th>acesso_dia_26</th>\n",
       "      <th>acesso_dia_27</th>\n",
       "      <th>acesso_dia_28</th>\n",
       "      <th>acesso_dia_29</th>\n",
       "      <th>acesso_dia_30</th>\n",
       "    </tr>\n",
       "  </thead>\n",
       "  <tbody>\n",
       "    <tr>\n",
       "      <th>0</th>\n",
       "      <td>0.984183</td>\n",
       "      <td>0.177153</td>\n",
       "      <td>1.0</td>\n",
       "      <td>1.0</td>\n",
       "      <td>1.0</td>\n",
       "      <td>1.0</td>\n",
       "      <td>0.0</td>\n",
       "      <td>0.0</td>\n",
       "      <td>1.0</td>\n",
       "      <td>1.0</td>\n",
       "      <td>...</td>\n",
       "      <td>0.0</td>\n",
       "      <td>0.0</td>\n",
       "      <td>0.0</td>\n",
       "      <td>0.0</td>\n",
       "      <td>0.0</td>\n",
       "      <td>0.0</td>\n",
       "      <td>0.0</td>\n",
       "      <td>0.0</td>\n",
       "      <td>0.0</td>\n",
       "      <td>0.0</td>\n",
       "    </tr>\n",
       "    <tr>\n",
       "      <th>1</th>\n",
       "      <td>0.000000</td>\n",
       "      <td>0.000000</td>\n",
       "      <td>0.0</td>\n",
       "      <td>0.0</td>\n",
       "      <td>0.0</td>\n",
       "      <td>0.0</td>\n",
       "      <td>0.0</td>\n",
       "      <td>0.0</td>\n",
       "      <td>0.0</td>\n",
       "      <td>0.0</td>\n",
       "      <td>...</td>\n",
       "      <td>0.0</td>\n",
       "      <td>0.0</td>\n",
       "      <td>0.0</td>\n",
       "      <td>0.0</td>\n",
       "      <td>0.0</td>\n",
       "      <td>0.0</td>\n",
       "      <td>0.0</td>\n",
       "      <td>0.0</td>\n",
       "      <td>0.0</td>\n",
       "      <td>0.0</td>\n",
       "    </tr>\n",
       "    <tr>\n",
       "      <th>2</th>\n",
       "      <td>0.984183</td>\n",
       "      <td>0.177153</td>\n",
       "      <td>1.0</td>\n",
       "      <td>0.0</td>\n",
       "      <td>0.0</td>\n",
       "      <td>0.0</td>\n",
       "      <td>0.0</td>\n",
       "      <td>0.0</td>\n",
       "      <td>1.0</td>\n",
       "      <td>0.0</td>\n",
       "      <td>...</td>\n",
       "      <td>0.0</td>\n",
       "      <td>0.0</td>\n",
       "      <td>0.0</td>\n",
       "      <td>0.0</td>\n",
       "      <td>0.0</td>\n",
       "      <td>0.0</td>\n",
       "      <td>0.0</td>\n",
       "      <td>0.0</td>\n",
       "      <td>0.0</td>\n",
       "      <td>0.0</td>\n",
       "    </tr>\n",
       "    <tr>\n",
       "      <th>3</th>\n",
       "      <td>0.975610</td>\n",
       "      <td>0.219512</td>\n",
       "      <td>1.0</td>\n",
       "      <td>1.0</td>\n",
       "      <td>1.0</td>\n",
       "      <td>1.0</td>\n",
       "      <td>0.0</td>\n",
       "      <td>0.0</td>\n",
       "      <td>0.0</td>\n",
       "      <td>0.0</td>\n",
       "      <td>...</td>\n",
       "      <td>0.0</td>\n",
       "      <td>0.0</td>\n",
       "      <td>0.0</td>\n",
       "      <td>0.0</td>\n",
       "      <td>0.0</td>\n",
       "      <td>0.0</td>\n",
       "      <td>0.0</td>\n",
       "      <td>0.0</td>\n",
       "      <td>0.0</td>\n",
       "      <td>0.0</td>\n",
       "    </tr>\n",
       "    <tr>\n",
       "      <th>4</th>\n",
       "      <td>0.982318</td>\n",
       "      <td>0.187218</td>\n",
       "      <td>1.0</td>\n",
       "      <td>1.0</td>\n",
       "      <td>1.0</td>\n",
       "      <td>1.0</td>\n",
       "      <td>1.0</td>\n",
       "      <td>0.0</td>\n",
       "      <td>1.0</td>\n",
       "      <td>1.0</td>\n",
       "      <td>...</td>\n",
       "      <td>0.0</td>\n",
       "      <td>0.0</td>\n",
       "      <td>0.0</td>\n",
       "      <td>0.0</td>\n",
       "      <td>0.0</td>\n",
       "      <td>0.0</td>\n",
       "      <td>0.0</td>\n",
       "      <td>0.0</td>\n",
       "      <td>0.0</td>\n",
       "      <td>0.0</td>\n",
       "    </tr>\n",
       "    <tr>\n",
       "      <th>...</th>\n",
       "      <td>...</td>\n",
       "      <td>...</td>\n",
       "      <td>...</td>\n",
       "      <td>...</td>\n",
       "      <td>...</td>\n",
       "      <td>...</td>\n",
       "      <td>...</td>\n",
       "      <td>...</td>\n",
       "      <td>...</td>\n",
       "      <td>...</td>\n",
       "      <td>...</td>\n",
       "      <td>...</td>\n",
       "      <td>...</td>\n",
       "      <td>...</td>\n",
       "      <td>...</td>\n",
       "      <td>...</td>\n",
       "      <td>...</td>\n",
       "      <td>...</td>\n",
       "      <td>...</td>\n",
       "      <td>...</td>\n",
       "      <td>...</td>\n",
       "    </tr>\n",
       "    <tr>\n",
       "      <th>73184</th>\n",
       "      <td>0.985856</td>\n",
       "      <td>0.167595</td>\n",
       "      <td>0.0</td>\n",
       "      <td>0.0</td>\n",
       "      <td>0.0</td>\n",
       "      <td>0.0</td>\n",
       "      <td>0.0</td>\n",
       "      <td>0.0</td>\n",
       "      <td>0.0</td>\n",
       "      <td>0.0</td>\n",
       "      <td>...</td>\n",
       "      <td>0.0</td>\n",
       "      <td>0.0</td>\n",
       "      <td>0.0</td>\n",
       "      <td>0.0</td>\n",
       "      <td>0.0</td>\n",
       "      <td>0.0</td>\n",
       "      <td>0.0</td>\n",
       "      <td>0.0</td>\n",
       "      <td>0.0</td>\n",
       "      <td>0.0</td>\n",
       "    </tr>\n",
       "    <tr>\n",
       "      <th>73185</th>\n",
       "      <td>0.000000</td>\n",
       "      <td>0.000000</td>\n",
       "      <td>0.0</td>\n",
       "      <td>0.0</td>\n",
       "      <td>0.0</td>\n",
       "      <td>0.0</td>\n",
       "      <td>0.0</td>\n",
       "      <td>0.0</td>\n",
       "      <td>0.0</td>\n",
       "      <td>0.0</td>\n",
       "      <td>...</td>\n",
       "      <td>0.0</td>\n",
       "      <td>0.0</td>\n",
       "      <td>0.0</td>\n",
       "      <td>0.0</td>\n",
       "      <td>0.0</td>\n",
       "      <td>0.0</td>\n",
       "      <td>0.0</td>\n",
       "      <td>0.0</td>\n",
       "      <td>0.0</td>\n",
       "      <td>0.0</td>\n",
       "    </tr>\n",
       "    <tr>\n",
       "      <th>73186</th>\n",
       "      <td>0.984183</td>\n",
       "      <td>0.177153</td>\n",
       "      <td>1.0</td>\n",
       "      <td>0.0</td>\n",
       "      <td>0.0</td>\n",
       "      <td>0.0</td>\n",
       "      <td>0.0</td>\n",
       "      <td>0.0</td>\n",
       "      <td>0.0</td>\n",
       "      <td>0.0</td>\n",
       "      <td>...</td>\n",
       "      <td>0.0</td>\n",
       "      <td>0.0</td>\n",
       "      <td>0.0</td>\n",
       "      <td>0.0</td>\n",
       "      <td>0.0</td>\n",
       "      <td>0.0</td>\n",
       "      <td>0.0</td>\n",
       "      <td>0.0</td>\n",
       "      <td>0.0</td>\n",
       "      <td>0.0</td>\n",
       "    </tr>\n",
       "    <tr>\n",
       "      <th>73187</th>\n",
       "      <td>0.984183</td>\n",
       "      <td>0.177153</td>\n",
       "      <td>1.0</td>\n",
       "      <td>1.0</td>\n",
       "      <td>0.0</td>\n",
       "      <td>0.0</td>\n",
       "      <td>0.0</td>\n",
       "      <td>0.0</td>\n",
       "      <td>0.0</td>\n",
       "      <td>0.0</td>\n",
       "      <td>...</td>\n",
       "      <td>0.0</td>\n",
       "      <td>0.0</td>\n",
       "      <td>0.0</td>\n",
       "      <td>0.0</td>\n",
       "      <td>0.0</td>\n",
       "      <td>0.0</td>\n",
       "      <td>0.0</td>\n",
       "      <td>0.0</td>\n",
       "      <td>0.0</td>\n",
       "      <td>0.0</td>\n",
       "    </tr>\n",
       "    <tr>\n",
       "      <th>73188</th>\n",
       "      <td>0.000000</td>\n",
       "      <td>0.000000</td>\n",
       "      <td>0.0</td>\n",
       "      <td>0.0</td>\n",
       "      <td>0.0</td>\n",
       "      <td>0.0</td>\n",
       "      <td>0.0</td>\n",
       "      <td>0.0</td>\n",
       "      <td>0.0</td>\n",
       "      <td>0.0</td>\n",
       "      <td>...</td>\n",
       "      <td>0.0</td>\n",
       "      <td>0.0</td>\n",
       "      <td>0.0</td>\n",
       "      <td>0.0</td>\n",
       "      <td>0.0</td>\n",
       "      <td>0.0</td>\n",
       "      <td>0.0</td>\n",
       "      <td>0.0</td>\n",
       "      <td>0.0</td>\n",
       "      <td>0.0</td>\n",
       "    </tr>\n",
       "  </tbody>\n",
       "</table>\n",
       "<p>71164 rows × 32 columns</p>\n",
       "</div>"
      ],
      "text/plain": [
       "         medias  atividades_ate_dia_30  acesso_dia_1  acesso_dia_2  \\\n",
       "0      0.984183               0.177153           1.0           1.0   \n",
       "1      0.000000               0.000000           0.0           0.0   \n",
       "2      0.984183               0.177153           1.0           0.0   \n",
       "3      0.975610               0.219512           1.0           1.0   \n",
       "4      0.982318               0.187218           1.0           1.0   \n",
       "...         ...                    ...           ...           ...   \n",
       "73184  0.985856               0.167595           0.0           0.0   \n",
       "73185  0.000000               0.000000           0.0           0.0   \n",
       "73186  0.984183               0.177153           1.0           0.0   \n",
       "73187  0.984183               0.177153           1.0           1.0   \n",
       "73188  0.000000               0.000000           0.0           0.0   \n",
       "\n",
       "       acesso_dia_3  acesso_dia_4  acesso_dia_5  acesso_dia_6  acesso_dia_7  \\\n",
       "0               1.0           1.0           0.0           0.0           1.0   \n",
       "1               0.0           0.0           0.0           0.0           0.0   \n",
       "2               0.0           0.0           0.0           0.0           1.0   \n",
       "3               1.0           1.0           0.0           0.0           0.0   \n",
       "4               1.0           1.0           1.0           0.0           1.0   \n",
       "...             ...           ...           ...           ...           ...   \n",
       "73184           0.0           0.0           0.0           0.0           0.0   \n",
       "73185           0.0           0.0           0.0           0.0           0.0   \n",
       "73186           0.0           0.0           0.0           0.0           0.0   \n",
       "73187           0.0           0.0           0.0           0.0           0.0   \n",
       "73188           0.0           0.0           0.0           0.0           0.0   \n",
       "\n",
       "       acesso_dia_8  ...  acesso_dia_21  acesso_dia_22  acesso_dia_23  \\\n",
       "0               1.0  ...            0.0            0.0            0.0   \n",
       "1               0.0  ...            0.0            0.0            0.0   \n",
       "2               0.0  ...            0.0            0.0            0.0   \n",
       "3               0.0  ...            0.0            0.0            0.0   \n",
       "4               1.0  ...            0.0            0.0            0.0   \n",
       "...             ...  ...            ...            ...            ...   \n",
       "73184           0.0  ...            0.0            0.0            0.0   \n",
       "73185           0.0  ...            0.0            0.0            0.0   \n",
       "73186           0.0  ...            0.0            0.0            0.0   \n",
       "73187           0.0  ...            0.0            0.0            0.0   \n",
       "73188           0.0  ...            0.0            0.0            0.0   \n",
       "\n",
       "       acesso_dia_24  acesso_dia_25  acesso_dia_26  acesso_dia_27  \\\n",
       "0                0.0            0.0            0.0            0.0   \n",
       "1                0.0            0.0            0.0            0.0   \n",
       "2                0.0            0.0            0.0            0.0   \n",
       "3                0.0            0.0            0.0            0.0   \n",
       "4                0.0            0.0            0.0            0.0   \n",
       "...              ...            ...            ...            ...   \n",
       "73184            0.0            0.0            0.0            0.0   \n",
       "73185            0.0            0.0            0.0            0.0   \n",
       "73186            0.0            0.0            0.0            0.0   \n",
       "73187            0.0            0.0            0.0            0.0   \n",
       "73188            0.0            0.0            0.0            0.0   \n",
       "\n",
       "       acesso_dia_28  acesso_dia_29  acesso_dia_30  \n",
       "0                0.0            0.0            0.0  \n",
       "1                0.0            0.0            0.0  \n",
       "2                0.0            0.0            0.0  \n",
       "3                0.0            0.0            0.0  \n",
       "4                0.0            0.0            0.0  \n",
       "...              ...            ...            ...  \n",
       "73184            0.0            0.0            0.0  \n",
       "73185            0.0            0.0            0.0  \n",
       "73186            0.0            0.0            0.0  \n",
       "73187            0.0            0.0            0.0  \n",
       "73188            0.0            0.0            0.0  \n",
       "\n",
       "[71164 rows x 32 columns]"
      ]
     },
     "execution_count": 17,
     "metadata": {},
     "output_type": "execute_result"
    }
   ],
   "source": [
    "subset"
   ]
  },
  {
   "cell_type": "markdown",
   "metadata": {},
   "source": [
    "### Aplicando o subset em algoritmos de ML"
   ]
  },
  {
   "cell_type": "markdown",
   "metadata": {},
   "source": [
    "#### LinearSVC"
   ]
  },
  {
   "cell_type": "code",
   "execution_count": 18,
   "metadata": {},
   "outputs": [
    {
     "name": "stdout",
     "output_type": "stream",
     "text": [
      "A acurácia foi 98.53%\n",
      "Tempo de execução:: 0.6814725399017334s\n"
     ]
    },
    {
     "data": {
      "image/png": "[encoded data removed]",
      "text/plain": [
       "<Figure size 288x288 with 1 Axes>"
      ]
     },
     "metadata": {
      "needs_background": "light"
     },
     "output_type": "display_data"
    },
    {
     "name": "stdout",
     "output_type": "stream",
     "text": [
      "dict_keys([0, 1, 2, 3, 4])\n",
      "{'APROVADO': 9423, 'ABANDONO': 4582, 'TRANCAMENTO': 153, 'REPROVADO': 1, 'DESISTENTE': 74}\n",
      "{'APROVADO': 9509, 'ABANDONO': 4697, 'TRANCAMENTO': 0, 'REPROVADO': 0, 'DESISTENTE': 27}\n"
     ]
    },
    {
     "data": {
      "image/png": "[encoded data removed]",
      "text/plain": [
       "<Figure size 432x288 with 1 Axes>"
      ]
     },
     "metadata": {
      "needs_background": "light"
     },
     "output_type": "display_data"
    }
   ],
   "source": [
    "from sklearn.svm import LinearSVC\n",
    "from sklearn.metrics import accuracy_score\n",
    "from sklearn.model_selection import train_test_split\n",
    "\n",
    "\n",
    "treino_x, teste_x, treino_y, teste_y = train_test_split(subset, dados_filtrados_y, test_size=0.2)\n",
    "\n",
    "\n",
    "lin_reg = LinearSVC(dual=False, random_state=42)\n",
    "train_and_evaluate(lin_reg, treino_x, teste_x, treino_y, teste_y, show_distribuition = True)\n",
    "\n",
    "lin_reg_gs = LinearSVC()\n",
    "\n",
    "param_grid = [\n",
    "    {'loss': ['hinge'], 'penalty':  ['l2'], 'max_iter': [1000, 10000]},\n",
    "    {'loss': ['squared_hinge'], 'dual': [False], 'penalty':  ['l1', 'l2'], 'max_iter': [1000, 10000]}\n",
    "\n",
    "]\n",
    "\n",
    "#calculate_with_grid_search(lin_reg_gs, param_grid, treino_x, teste_x, treino_y, teste_y)\n"
   ]
  },
  {
   "cell_type": "markdown",
   "metadata": {},
   "source": [
    "#### GaussianNB"
   ]
  },
  {
   "cell_type": "code",
   "execution_count": 19,
   "metadata": {},
   "outputs": [
    {
     "name": "stdout",
     "output_type": "stream",
     "text": [
      "A acurácia foi 29.90%\n",
      "Tempo de execução:: 0.047385454177856445s\n"
     ]
    },
    {
     "data": {
      "image/png": "[encoded data removed]",
      "text/plain": [
       "<Figure size 288x288 with 1 Axes>"
      ]
     },
     "metadata": {
      "needs_background": "light"
     },
     "output_type": "display_data"
    }
   ],
   "source": [
    "from sklearn.naive_bayes import GaussianNB\n",
    "\n",
    "treino_x, teste_x, treino_y, teste_y = train_test_split(subset, dados_filtrados_y, test_size=0.2)\n",
    "\n",
    "\n",
    "gaussian_nb = GaussianNB()\n",
    "train_and_evaluate(gaussian_nb, treino_x, teste_x, treino_y, teste_y)"
   ]
  },
  {
   "cell_type": "markdown",
   "metadata": {},
   "source": [
    "#### RandomForestClassifier"
   ]
  },
  {
   "cell_type": "code",
   "execution_count": 20,
   "metadata": {},
   "outputs": [
    {
     "name": "stdout",
     "output_type": "stream",
     "text": [
      "A acurácia foi 98.97%\n",
      "Tempo de execução:: 2.2583067417144775s\n"
     ]
    },
    {
     "data": {
      "image/png": "[encoded data removed]",
      "text/plain": [
       "<Figure size 288x288 with 1 Axes>"
      ]
     },
     "metadata": {
      "needs_background": "light"
     },
     "output_type": "display_data"
    },
    {
     "name": "stdout",
     "output_type": "stream",
     "text": [
      "dict_keys([0, 1, 2, 3, 4])\n",
      "{'APROVADO': 9531, 'ABANDONO': 4486, 'TRANCAMENTO': 134, 'REPROVADO': 2, 'DESISTENTE': 80}\n",
      "{'APROVADO': 9555, 'ABANDONO': 4577, 'TRANCAMENTO': 16, 'REPROVADO': 0, 'DESISTENTE': 85}\n"
     ]
    },
    {
     "data": {
      "image/png": "[encoded data removed]",
      "text/plain": [
       "<Figure size 432x288 with 1 Axes>"
      ]
     },
     "metadata": {
      "needs_background": "light"
     },
     "output_type": "display_data"
    }
   ],
   "source": [
    "from sklearn.ensemble import RandomForestClassifier\n",
    "\n",
    "treino_x, teste_x, treino_y, teste_y = train_test_split(subset, dados_filtrados_y, test_size=0.2)\n",
    "\n",
    "\n",
    "random_forest = RandomForestClassifier(random_state=42)\n",
    "train_and_evaluate(random_forest, treino_x, teste_x, treino_y, teste_y, show_distribuition = True)\n",
    "\n",
    "\n",
    "param_grid = [\n",
    "    {'bootstrap': [False], 'n_estimators': [10, 30, 100, 300], 'n_jobs':[-1]},\n",
    "    {'n_estimators': [10, 30, 100, 300], 'n_jobs':[-1]}\n",
    "]\n",
    "\n",
    "\n",
    "random_forest_gs = RandomForestClassifier()\n",
    "\n",
    "\n",
    "#calculate_with_grid_search(random_forest_gs, param_grid, treino_x, teste_x, treino_y, teste_y)\n"
   ]
  },
  {
   "cell_type": "markdown",
   "metadata": {},
   "source": [
    "#### AdaBoostClassifier"
   ]
  },
  {
   "cell_type": "code",
   "execution_count": 21,
   "metadata": {},
   "outputs": [
    {
     "name": "stdout",
     "output_type": "stream",
     "text": [
      "A acurácia foi 97.18%\n",
      "Tempo de execução:: 1.404357671737671s\n"
     ]
    },
    {
     "data": {
      "image/png": "[encoded data removed]",
      "text/plain": [
       "<Figure size 288x288 with 1 Axes>"
      ]
     },
     "metadata": {
      "needs_background": "light"
     },
     "output_type": "display_data"
    },
    {
     "name": "stdout",
     "output_type": "stream",
     "text": [
      "dict_keys([0, 1, 2, 3, 4])\n",
      "{'APROVADO': 9385, 'ABANDONO': 4612, 'TRANCAMENTO': 137, 'REPROVADO': 1, 'DESISTENTE': 98}\n",
      "{'APROVADO': 9276, 'ABANDONO': 4663, 'TRANCAMENTO': 160, 'REPROVADO': 12, 'DESISTENTE': 122}\n"
     ]
    },
    {
     "data": {
      "image/png": "[encoded data removed]",
      "text/plain": [
       "<Figure size 432x288 with 1 Axes>"
      ]
     },
     "metadata": {
      "needs_background": "light"
     },
     "output_type": "display_data"
    }
   ],
   "source": [
    "from sklearn.ensemble import AdaBoostClassifier\n",
    "\n",
    "treino_x, teste_x, treino_y, teste_y = train_test_split(subset, dados_filtrados_y, test_size=0.2)\n",
    "\n",
    "\n",
    "adaboost = AdaBoostClassifier(random_state=42)\n",
    "train_and_evaluate(adaboost, treino_x, teste_x, treino_y, teste_y, show_distribuition = True)\n",
    "\n",
    "\n",
    "param_grid = [\n",
    "    {'learning_rate': [0.1, 0.3, 1, 3], 'n_estimators': [30, 10, 100], 'algorithm': ['SAMME'],},\n",
    "    {'learning_rate': [0.1, 0.3, 1, 3], 'n_estimators': [10, 30, 100]} # Com o Samme.r, padrão\n",
    "]\n",
    "\n",
    "\n",
    "adaboost_cs = AdaBoostClassifier()\n",
    "\n",
    "#calculate_with_grid_search(adaboost_cs, param_grid, treino_x, teste_x, treino_y, teste_y)\n"
   ]
  },
  {
   "cell_type": "markdown",
   "metadata": {},
   "source": [
    "#### LogisticRegression"
   ]
  },
  {
   "cell_type": "code",
   "execution_count": 22,
   "metadata": {
    "scrolled": false
   },
   "outputs": [
    {
     "name": "stdout",
     "output_type": "stream",
     "text": [
      "A acurácia foi 98.59%\n",
      "Tempo de execução:: 3.603909492492676s\n"
     ]
    },
    {
     "name": "stderr",
     "output_type": "stream",
     "text": [
      "/home/eliasb/Documentos/evasao_escolar/venv/lib/python3.9/site-packages/sklearn/linear_model/_logistic.py:763: ConvergenceWarning: lbfgs failed to converge (status=1):\n",
      "STOP: TOTAL NO. of ITERATIONS REACHED LIMIT.\n",
      "\n",
      "Increase the number of iterations (max_iter) or scale the data as shown in:\n",
      "    https://scikit-learn.org/stable/modules/preprocessing.html\n",
      "Please also refer to the documentation for alternative solver options:\n",
      "    https://scikit-learn.org/stable/modules/linear_model.html#logistic-regression\n",
      "  n_iter_i = _check_optimize_result(\n"
     ]
    },
    {
     "data": {
      "image/png": "[encoded data removed]",
      "text/plain": [
       "<Figure size 288x288 with 1 Axes>"
      ]
     },
     "metadata": {
      "needs_background": "light"
     },
     "output_type": "display_data"
    },
    {
     "name": "stdout",
     "output_type": "stream",
     "text": [
      "dict_keys([0, 1, 2, 3, 4])\n",
      "{'APROVADO': 9512, 'ABANDONO': 4508, 'TRANCAMENTO': 132, 'REPROVADO': 2, 'DESISTENTE': 79}\n",
      "{'APROVADO': 9609, 'ABANDONO': 4609, 'TRANCAMENTO': 1, 'REPROVADO': 0, 'DESISTENTE': 14}\n"
     ]
    },
    {
     "data": {
      "image/png": "[encoded data removed]",
      "text/plain": [
       "<Figure size 432x288 with 1 Axes>"
      ]
     },
     "metadata": {
      "needs_background": "light"
     },
     "output_type": "display_data"
    }
   ],
   "source": [
    "from sklearn.linear_model import LogisticRegression\n",
    "\n",
    "treino_x, teste_x, treino_y, teste_y = train_test_split(subset, dados_filtrados_y, test_size=0.2)\n",
    "\n",
    "\n",
    "log_regression = LogisticRegression(random_state=42)\n",
    "train_and_evaluate(log_regression, treino_x, teste_x, treino_y, teste_y, show_distribuition = True)\n",
    "\n",
    "\n",
    "param_grid = [\n",
    "    {'C': [0.1, 1, 3], 'fit_intercept': [False, True], 'max_iter': [1000, 10000] },\n",
    "    {'C': [0.1, 1, 3], 'solver': ['newton-cg'], 'max_iter': [1000, 10000]}\n",
    "]\n",
    "\n",
    "\n",
    "log_regression_cs = LogisticRegression()\n",
    "\n",
    "\n",
    "#calculate_with_grid_search(log_regression_cs, param_grid, treino_x, teste_x, treino_y, teste_y)\n"
   ]
  },
  {
   "cell_type": "markdown",
   "metadata": {},
   "source": [
    "#### DecisionTreeClassifier"
   ]
  },
  {
   "cell_type": "code",
   "execution_count": 23,
   "metadata": {},
   "outputs": [
    {
     "name": "stdout",
     "output_type": "stream",
     "text": [
      "A acurácia foi 98.76%\n",
      "Tempo de execução:: 0.11612224578857422s\n"
     ]
    },
    {
     "data": {
      "image/png": "[encoded data removed]",
      "text/plain": [
       "<Figure size 288x288 with 1 Axes>"
      ]
     },
     "metadata": {
      "needs_background": "light"
     },
     "output_type": "display_data"
    },
    {
     "name": "stdout",
     "output_type": "stream",
     "text": [
      "dict_keys([0, 1, 2, 3, 4])\n",
      "{'APROVADO': 9540, 'ABANDONO': 4476, 'TRANCAMENTO': 129, 'REPROVADO': 2, 'DESISTENTE': 86}\n",
      "{'APROVADO': 9540, 'ABANDONO': 4566, 'TRANCAMENTO': 43, 'REPROVADO': 3, 'DESISTENTE': 81}\n"
     ]
    },
    {
     "data": {
      "image/png": "[encoded data removed]",
      "text/plain": [
       "<Figure size 432x288 with 1 Axes>"
      ]
     },
     "metadata": {
      "needs_background": "light"
     },
     "output_type": "display_data"
    }
   ],
   "source": [
    "from sklearn.tree import DecisionTreeClassifier\n",
    "\n",
    "treino_x, teste_x, treino_y, teste_y = train_test_split(subset, dados_filtrados_y, test_size=0.2)\n",
    "\n",
    "\n",
    "dec_tree = DecisionTreeClassifier(random_state=42)\n",
    "train_and_evaluate(dec_tree, treino_x, teste_x, treino_y, teste_y, show_distribuition = True)\n",
    "\n",
    "\n",
    "param_grid = [\n",
    "    {'splitter': ['random'], 'criterion': ['entropy'], 'max_features': ['auto', 'sqrt', 'log2'] }\n",
    "]\n",
    "\n",
    "\n",
    "dec_tree_cs = DecisionTreeClassifier()\n",
    "\n",
    "\n",
    "#calculate_with_grid_search(dec_tree_cs, param_grid, treino_x, teste_x, treino_y, teste_y)\n"
   ]
  },
  {
   "cell_type": "code",
   "execution_count": null,
   "metadata": {},
   "outputs": [],
   "source": []
  }
 ],
 "metadata": {
  "kernelspec": {
   "display_name": "kernel-pibic",
   "language": "python",
   "name": "kernel-pibic"
  },
  "language_info": {
   "codemirror_mode": {
    "name": "ipython",
    "version": 3
   },
   "file_extension": ".py",
   "mimetype": "text/x-python",
   "name": "python",
   "nbconvert_exporter": "python",
   "pygments_lexer": "ipython3",
   "version": "3.9.1"
  }
 },
 "nbformat": 4,
 "nbformat_minor": 4
}
