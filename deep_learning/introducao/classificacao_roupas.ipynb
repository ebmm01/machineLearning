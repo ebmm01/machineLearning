{
 "cells": [
  {
   "cell_type": "code",
   "execution_count": 1,
   "metadata": {},
   "outputs": [
    {
     "name": "stderr",
     "output_type": "stream",
     "text": [
      "Using TensorFlow backend.\n"
     ]
    },
    {
     "name": "stdout",
     "output_type": "stream",
     "text": [
      "AxesImage(80,52.8;496x369.6)\n",
      "0\n",
      "9\n"
     ]
    }
   ],
   "source": [
    "import keras\n",
    "import tensorflow as tf\n",
    "import matplotlib.pyplot as plt\n",
    "import numpy as np\n",
    "\n",
    "# Faço o import do dataset Fashion Mnist\n",
    "dataset = keras.datasets.fashion_mnist\n",
    "\n",
    "# O load data retorna duas tuplas\n",
    "tuplas_dataset = dataset.load_data()\n",
    "\n",
    "# Então eu salvo elas separadamente\n",
    "((imagens_treino, identificacoes_treino), (imagens_teste, identificacoes_teste)) = tuplas_dataset\n",
    "\n",
    "# Verifico que meu dataset de treino tem 60k imagens. Com o .shape eu verifico que as dimensões são 28x28\n",
    "len(imagens_treino)\n",
    "\n",
    "# E ploto uma imagem\n",
    "print(plt.imshow(imagens_treino[0]))\n",
    "\n",
    "# Verifico o número de classificações de imagens\n",
    "print(identificacoes_treino.min()) # => 0\n",
    "print(identificacoes_treino.max()) # => 9\n",
    "# Ou senha, tenho 10 (0 até 9)\n",
    "\n",
    "total_de_classificacoes = 10\n",
    "\n",
    "# Nomeio as classificações de acordo com as categorias\n",
    "nomes_de_classificacoes = ['Camiseta', 'Calca', 'Pullover', 'Vestido', 'Casaco', 'Sandália', 'Camisa', 'Tênis', 'Bolsa', 'Bota']\n"
   ]
  },
  {
   "cell_type": "code",
   "execution_count": 2,
   "metadata": {},
   "outputs": [
    {
     "data": {
      "image/png": "[encoded data removed]",
      "text/plain": [
       "<Figure size 432x288 with 10 Axes>"
      ]
     },
     "metadata": {
      "needs_background": "light"
     },
     "output_type": "display_data"
    }
   ],
   "source": [
    "# Verifico e exibo todas as classificações \n",
    "for imagem in range(10):\n",
    "    plt.subplot(2,5, imagem +1)\n",
    "    plt.imshow(imagens_treino[imagem])\n",
    "    plt.title(nomes_de_classificacoes[identificacoes_treino[imagem]])"
   ]
  },
  {
   "cell_type": "code",
   "execution_count": 3,
   "metadata": {},
   "outputs": [],
   "source": [
    "# Reduzo a escala de cinzas de 0-255 para 0-1, porém em ponto flutuante para manter as escalas de cinzas.\n",
    "# É uma normalização para reduzir as perdas\n",
    "imagens_treino = imagens_treino/255.0"
   ]
  },
  {
   "cell_type": "code",
   "execution_count": 4,
   "metadata": {},
   "outputs": [
    {
     "data": {
      "text/plain": [
       "'\\nExplicar relu & softmax\\n\\nrelu => em suma, soma de matrizes\\n'"
      ]
     },
     "execution_count": 4,
     "metadata": {},
     "output_type": "execute_result"
    }
   ],
   "source": [
    "# Crio o modelo\n",
    "modelo = keras.Sequential([\n",
    "    # Camada de entrada\n",
    "    keras.layers.Flatten(input_shape = (28,28)), # As imagens, de 28 por 28 pixels (input_shape = tamanho das entradas).\n",
    "    \n",
    "    # Processamento (camada do tipo dense,\n",
    "    keras.layers.Dense(256, activation = tf.nn.relu), # => Não há um número exato, ele deve ser testado e ajustado.\n",
    "\n",
    "    # 'Adormecer' alguns itens, normalizando o modelo\n",
    "    keras.layers.Dropout(0.2),\n",
    "    \n",
    "    # Saida\n",
    "    keras.layers.Dense(10, activation = tf.nn.softmax), # => Aqui eu coloco 10 porque eu tenho 10 tipos de categorias.\n",
    "])\n",
    "\n",
    "\"\"\"\n",
    "Explicar relu & softmax\n",
    "\n",
    "relu => em suma, soma de matrizes\n",
    "\"\"\""
   ]
  },
  {
   "cell_type": "markdown",
   "metadata": {},
   "source": [
    "## Parte 2 do curso: teoria e alguns testes"
   ]
  },
  {
   "cell_type": "code",
   "execution_count": 5,
   "metadata": {},
   "outputs": [
    {
     "name": "stdout",
     "output_type": "stream",
     "text": [
      "Model: \"sequential_1\"\n",
      "_________________________________________________________________\n",
      "Layer (type)                 Output Shape              Param #   \n",
      "=================================================================\n",
      "flatten_1 (Flatten)          (None, 784)               0         \n",
      "_________________________________________________________________\n",
      "dense_1 (Dense)              (None, 256)               200960    \n",
      "_________________________________________________________________\n",
      "dropout_1 (Dropout)          (None, 256)               0         \n",
      "_________________________________________________________________\n",
      "dense_2 (Dense)              (None, 10)                2570      \n",
      "=================================================================\n",
      "Total params: 203,530\n",
      "Trainable params: 203,530\n",
      "Non-trainable params: 0\n",
      "_________________________________________________________________\n"
     ]
    }
   ],
   "source": [
    "# Segunda parte do curso, teoria\n",
    "sumario_do_modelo = modelo.summary()\n",
    "sumario_do_modelo"
   ]
  },
  {
   "cell_type": "code",
   "execution_count": 6,
   "metadata": {},
   "outputs": [],
   "source": [
    "# Pesos\n",
    "#pesos_camada_dense = modelo.layers[1].get_weights()[0]\n",
    "#print(pesos_camada_dense)\n",
    "\n",
    "# Zero minha camada de pesos\n",
    "#pesos_camada_dense_zerados = np.zeros((784, 256))\n",
    "\n",
    "# Camada com pesos aleatórios\n",
    "#pesos_camada_dense_aleatorios = np.random.rand(784, 256)\n",
    "\n"
   ]
  },
  {
   "cell_type": "code",
   "execution_count": 7,
   "metadata": {},
   "outputs": [],
   "source": [
    "# Vieses\n",
    "#vieses_camada_dense = modelo.layers[1].get_weights()[1]\n",
    "#print(vieses_camada_dense)\n",
    "\n",
    "#vieses_camada_dense_zerados =  np.zeros((256, ))"
   ]
  },
  {
   "cell_type": "code",
   "execution_count": 8,
   "metadata": {},
   "outputs": [],
   "source": [
    "\n",
    "# Altero o valor dos meus pesos\n",
    "#modelo.layers[1].set_weights(\n",
    "#    [pesos_camada_dense_zerados, vieses_camada_dense_zerados]\n",
    "#)"
   ]
  },
  {
   "cell_type": "code",
   "execution_count": 9,
   "metadata": {},
   "outputs": [],
   "source": [
    "adam = keras.optimizers.Adam(lr=0.001)\n",
    "\n",
    "# Antes de treinar, eu preciso compilar meu modelo\n",
    "modelo.compile(\n",
    "    # Otimizador\n",
    "    optimizer=adam, \n",
    "    \n",
    "    # Perda\n",
    "    loss='sparse_categorical_crossentropy',\n",
    "    \n",
    "    # Contador de precisão\n",
    "    metrics=['accuracy']\n",
    ")"
   ]
  },
  {
   "cell_type": "code",
   "execution_count": 10,
   "metadata": {},
   "outputs": [
    {
     "name": "stdout",
     "output_type": "stream",
     "text": [
      "Train on 48000 samples, validate on 12000 samples\n",
      "Epoch 1/5\n",
      "48000/48000 [==============================] - 4s 91us/step - loss: 0.5239 - accuracy: 0.8145 - val_loss: 0.4146 - val_accuracy: 0.8512\n",
      "Epoch 2/5\n",
      "48000/48000 [==============================] - 4s 85us/step - loss: 0.3983 - accuracy: 0.8546 - val_loss: 0.3641 - val_accuracy: 0.8673\n",
      "Epoch 3/5\n",
      "48000/48000 [==============================] - 4s 84us/step - loss: 0.3610 - accuracy: 0.8679 - val_loss: 0.3625 - val_accuracy: 0.8635\n",
      "Epoch 4/5\n",
      "48000/48000 [==============================] - 4s 82us/step - loss: 0.3401 - accuracy: 0.8760 - val_loss: 0.3641 - val_accuracy: 0.8717\n",
      "Epoch 5/5\n",
      "48000/48000 [==============================] - 4s 87us/step - loss: 0.3230 - accuracy: 0.8801 - val_loss: 0.3491 - val_accuracy: 0.8786\n"
     ]
    }
   ],
   "source": [
    "# Faço o treinamento do modelo passando os dados e marcações\n",
    "historico = modelo.fit(imagens_treino, identificacoes_treino, epochs=5, validation_split=0.2)"
   ]
  },
  {
   "cell_type": "code",
   "execution_count": 11,
   "metadata": {},
   "outputs": [],
   "source": [
    "# Salvo meu modelo\n",
    "modelo.save('modelo.h5')\n",
    "\n",
    "# Dou load nele\n",
    "# Coloquei o custom objects porque sem ele estava dando erro de ativação\n",
    "modelo_salvo = tf.keras.models.load_model('modelo.h5', custom_objects={'softmax_v2': tf.nn.softmax})"
   ]
  },
  {
   "cell_type": "code",
   "execution_count": 12,
   "metadata": {},
   "outputs": [
    {
     "data": {
      "text/plain": [
       "<matplotlib.legend.Legend at 0x7f395f6bd0d0>"
      ]
     },
     "execution_count": 12,
     "metadata": {},
     "output_type": "execute_result"
    },
    {
     "data": {
      "image/png": "[encoded data removed]",
      "text/plain": [
       "<Figure size 432x288 with 1 Axes>"
      ]
     },
     "metadata": {
      "needs_background": "light"
     },
     "output_type": "display_data"
    }
   ],
   "source": [
    "# Vejo e ploto a acurária do meu modelo por treino e validação\n",
    "plt.plot(historico.history['accuracy'])\n",
    "plt.plot(historico.history['val_accuracy'])\n",
    "plt.title('Acurária por épocas')\n",
    "plt.xlabel('épocas')\n",
    "plt.ylabel('Acurácia')\n",
    "plt.legend(['Treino', 'Validação'])"
   ]
  },
  {
   "cell_type": "code",
   "execution_count": 13,
   "metadata": {},
   "outputs": [
    {
     "data": {
      "text/plain": [
       "<matplotlib.legend.Legend at 0x7f3930672450>"
      ]
     },
     "execution_count": 13,
     "metadata": {},
     "output_type": "execute_result"
    },
    {
     "data": {
      "image/png": "[encoded data removed]",
      "text/plain": [
       "<Figure size 432x288 with 1 Axes>"
      ]
     },
     "metadata": {
      "needs_background": "light"
     },
     "output_type": "display_data"
    }
   ],
   "source": [
    "# Vejo e ploto a perda do meu modelo por treino e validação\n",
    "plt.plot(historico.history['loss'])\n",
    "plt.plot(historico.history['val_loss'])\n",
    "plt.title('Perda por épocas')\n",
    "plt.xlabel('épocas')\n",
    "plt.ylabel('Perda')\n",
    "plt.legend(['Treino', 'Validação'])"
   ]
  },
  {
   "cell_type": "code",
   "execution_count": 14,
   "metadata": {},
   "outputs": [
    {
     "name": "stdout",
     "output_type": "stream",
     "text": [
      "(10000, 10) [0. 0. 1. 0. 0. 0. 0. 0. 0. 0.]\n",
      "resultado de teste: 2\n",
      "número de teste da imagem: 2\n",
      "resultado de teste: 2\n",
      "número de teste da imagem: 2\n"
     ]
    }
   ],
   "source": [
    "# Testando o modelo e o modelo salvo\n",
    "testes = modelo.predict(imagens_teste)\n",
    "print(testes.shape, testes[1])\n",
    "print(f'resultado de teste: {np.argmax(testes[1])}')\n",
    "print(f'número de teste da imagem: {identificacoes_teste[1]}')\n",
    "\n",
    "testes_modelo_salvo = modelo_salvo.predict(imagens_teste)\n",
    "\n",
    "print(f'resultado de teste: {np.argmax(testes_modelo_salvo[1])}')\n",
    "print(f'número de teste da imagem: {identificacoes_teste[1]}')"
   ]
  },
  {
   "cell_type": "code",
   "execution_count": 15,
   "metadata": {},
   "outputs": [
    {
     "name": "stdout",
     "output_type": "stream",
     "text": [
      "10000/10000 [==============================] - 0s 23us/step\n",
      "Epoch 1/1\n",
      "60000/60000 [==============================] - 5s 82us/step - loss: 0.3201 - accuracy: 0.8823\n"
     ]
    },
    {
     "data": {
      "text/plain": [
       "<keras.callbacks.callbacks.History at 0x7f39305beed0>"
      ]
     },
     "execution_count": 15,
     "metadata": {},
     "output_type": "execute_result"
    }
   ],
   "source": [
    "# Avaliando o modelo\n",
    "\n",
    "perda_teste, acuracia_teste = modelo.evaluate(imagens_teste, identificacoes_teste)\n",
    "\n",
    "# Faço o treinamento do modelo passando os dados e marcações\n",
    "modelo.fit(imagens_treino, identificacoes_treino)"
   ]
  },
  {
   "cell_type": "code",
   "execution_count": 16,
   "metadata": {},
   "outputs": [
    {
     "data": {
      "text/plain": [
       "'\\nRedes neurais;\\n\\n'"
      ]
     },
     "execution_count": 16,
     "metadata": {},
     "output_type": "execute_result"
    }
   ],
   "source": [
    "\"\"\"\n",
    "Redes neurais;\n",
    "\n",
    "\"\"\""
   ]
  },
  {
   "cell_type": "code",
   "execution_count": 17,
   "metadata": {},
   "outputs": [
    {
     "data": {
      "text/plain": [
       "{'name': 'sequential_1',\n",
       " 'layers': [{'class_name': 'Flatten',\n",
       "   'config': {'name': 'flatten_1',\n",
       "    'trainable': True,\n",
       "    'batch_input_shape': (None, 28, 28),\n",
       "    'dtype': 'float32',\n",
       "    'data_format': 'channels_last'}},\n",
       "  {'class_name': 'Dense',\n",
       "   'config': {'name': 'dense_1',\n",
       "    'trainable': True,\n",
       "    'dtype': 'float32',\n",
       "    'units': 256,\n",
       "    'activation': 'relu',\n",
       "    'use_bias': True,\n",
       "    'kernel_initializer': {'class_name': 'VarianceScaling',\n",
       "     'config': {'scale': 1.0,\n",
       "      'mode': 'fan_avg',\n",
       "      'distribution': 'uniform',\n",
       "      'seed': None}},\n",
       "    'bias_initializer': {'class_name': 'Zeros', 'config': {}},\n",
       "    'kernel_regularizer': None,\n",
       "    'bias_regularizer': None,\n",
       "    'activity_regularizer': None,\n",
       "    'kernel_constraint': None,\n",
       "    'bias_constraint': None}},\n",
       "  {'class_name': 'Dropout',\n",
       "   'config': {'name': 'dropout_1',\n",
       "    'trainable': True,\n",
       "    'dtype': 'float32',\n",
       "    'rate': 0.2,\n",
       "    'noise_shape': None,\n",
       "    'seed': None}},\n",
       "  {'class_name': 'Dense',\n",
       "   'config': {'name': 'dense_2',\n",
       "    'trainable': True,\n",
       "    'dtype': 'float32',\n",
       "    'units': 10,\n",
       "    'activation': 'softmax_v2',\n",
       "    'use_bias': True,\n",
       "    'kernel_initializer': {'class_name': 'VarianceScaling',\n",
       "     'config': {'scale': 1.0,\n",
       "      'mode': 'fan_avg',\n",
       "      'distribution': 'uniform',\n",
       "      'seed': None}},\n",
       "    'bias_initializer': {'class_name': 'Zeros', 'config': {}},\n",
       "    'kernel_regularizer': None,\n",
       "    'bias_regularizer': None,\n",
       "    'activity_regularizer': None,\n",
       "    'kernel_constraint': None,\n",
       "    'bias_constraint': None}}]}"
      ]
     },
     "execution_count": 17,
     "metadata": {},
     "output_type": "execute_result"
    }
   ],
   "source": [
    "\"\"\"\n",
    "The Vanishing Gradient Problem\n",
    "\"\"\"\n",
    "modelo.get_config()"
   ]
  }
 ],
 "metadata": {
  "kernelspec": {
   "display_name": "MLvenv",
   "language": "python",
   "name": "mlvenv"
  },
  "language_info": {
   "codemirror_mode": {
    "name": "ipython",
    "version": 3
   },
   "file_extension": ".py",
   "mimetype": "text/x-python",
   "name": "python",
   "nbconvert_exporter": "python",
   "pygments_lexer": "ipython3",
   "version": "3.7.4"
  }
 },
 "nbformat": 4,
 "nbformat_minor": 2
}
