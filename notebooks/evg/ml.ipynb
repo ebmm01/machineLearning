{
 "cells": [
  {
   "cell_type": "code",
   "execution_count": 1,
   "metadata": {},
   "outputs": [],
   "source": [
    "\"\"\"\n",
    "Próximos passos: \n",
    " OK => Fazer o onehotencode no dataset inteiro\n",
    " OK => Verificar a importância de cada atributo em relação ao sit_matricula\n",
    " OK => Utilizar o standtscaler para reescalar os dados\n",
    " OK => Treinar novamente com o dataset inteiro\n",
    "\"\"\"\n",
    "import numpy as np\n",
    "import pandas as pd\n",
    "import matplotlib.pyplot as plt\n",
    "\n",
    "DEBUG = False\n",
    "SUBSET_DIAS = 9"
   ]
  },
  {
   "cell_type": "markdown",
   "metadata": {},
   "source": [
    "## Tratando os dados"
   ]
  },
  {
   "cell_type": "markdown",
   "metadata": {},
   "source": [
    "### Importando o dataset e removendo colunas não necessárias"
   ]
  },
  {
   "cell_type": "code",
   "execution_count": 2,
   "metadata": {},
   "outputs": [],
   "source": [
    "dataset_original = pd.read_csv('data/sei.csv')\n",
    "\n",
    "dataset = dataset_original.copy()\n",
    "\"\"\"\n",
    "Para isso, inicialmente iremos melhorar os dados do nosso dataset, removendo alguns atributos considerados \n",
    "desnecessários. Primeiramente removeremos os atributos referentes às notas máximas de determinada atividade,\n",
    "visto que esse valor sempre será 100.\n",
    "\"\"\"\n",
    "\n",
    "\"\"\"\n",
    "30/03 \n",
    "Alguns dados defeituosos serão removidos para que não influenciem negativamente os testes\n",
    "\n",
    "1101 => Aprovado, com notas nas atividades mas sem dias\n",
    "165 => Fez as atividades mas algumas passaram de 1 mês\n",
    "331, 382 => Data de entrega das atividades inferior ao dia de matricula \n",
    "(considerando-se dt_inscricao e não dt_fim_inscricao)\n",
    "\"\"\"\n",
    "dataset.drop(index=[1101, 165, 331, 382])\n",
    "\n",
    "# Filtramos todas as colunas do dataset que possuem o valor da nota máxima da atividade X:\n",
    "notas_maximas_a_remover = dataset.filter(like='nota_maxima_atividade')\n",
    "\n",
    "\n",
    "# Filtramos também alguns índices e id's que não serão necessários no momento\n",
    "indices_e_ids_a_remover = [\n",
    "    \"index\", \n",
    "     \"id_inscricao\", \n",
    "     \"id_oferta_x\", \n",
    "     \"id_curso\", \n",
    "     \"qt_carga_horaria_oferta\",\n",
    "     \"qt_duracao_dias\",\n",
    "     \"id_pessoa\",\n",
    "     \"nota_maxima_curso\",\n",
    "     \"tx_nome_orgao\"\n",
    "]\n",
    "\n",
    "# E também algumas datas que podem não ser muito úteis num momento inicial\n",
    "datas_a_remover = [\n",
    "    \"dt_fim_inscricao\",\n",
    "    \"dt_nascimento\"\n",
    "]\n",
    "\n",
    "dataset = dataset.drop(\n",
    "    [*indices_e_ids_a_remover, *datas_a_remover,  *list(notas_maximas_a_remover), \"nota_final_aluno_curso\", \"data_termino_curso_aluno\"], \n",
    "    axis=1\n",
    ")\n",
    "\n",
    "# E iremos alterar os valores do 'sit_matricula'\n",
    "dataset = dataset.replace({\"CERTIFICADO\": \"APROVADO\", \"CANC_DESISTENTE\": \"TRANCAMENTO\"})"
   ]
  },
  {
   "cell_type": "markdown",
   "metadata": {},
   "source": [
    "### Tratando as datas"
   ]
  },
  {
   "cell_type": "code",
   "execution_count": 3,
   "metadata": {},
   "outputs": [],
   "source": [
    "\"\"\"\n",
    "Para podemos calcular os dias temos que antes trabalhar as linhas que não possuem valores (NaN).\n",
    "Poderíamos remover as linhas com esses valores, mas isso reduziria consideravelmente o tamanho do nosso dataset.\n",
    "Então iremos por outra abordagem: inserir um valor padrão nessas linhas. Será inserida o datetime \n",
    "\"2000-01-01 00:00\"\n",
    "\"\"\"\n",
    "\n",
    "# Preenchemos todos as entradas com  '2000-01-01 00:00' no lugar de 'nan' \n",
    "def insert_default_date_time(dataset):\n",
    "    datas_a_inserir = dataset.filter(like='data_entrega_atividade_')\n",
    "    datas_a_inserir = datas_a_inserir.fillna(pd.to_datetime(\"2000-01-01 00:00:00\"))\n",
    "    dataset.fillna(datas_a_inserir, inplace=True)\n",
    "    return dataset\n",
    "\n",
    "# Convertemos os campos de datas em date_times:\n",
    "def convert_columns_to_date_time(dataset, columns_name):\n",
    "    date_time_columns = pd.to_datetime(dataset[[*columns_name]].stack(), dayfirst=True)\n",
    "    date_time_columns = date_time_columns.dt.normalize()\n",
    "    dataset[[*columns_name]] = date_time_columns.unstack()\n",
    "    return dataset\n",
    "\n",
    "\n",
    "dataset = insert_default_date_time(dataset)\n",
    "\n",
    "date_columns = [*list(dataset.filter(like='data_entrega_atividade_')), \"dt_inscricao\"]\n",
    "\n",
    "dataset = convert_columns_to_date_time(dataset, date_columns)"
   ]
  },
  {
   "cell_type": "markdown",
   "metadata": {},
   "source": [
    "### Adicionando dias entre atividade X e matrícula"
   ]
  },
  {
   "cell_type": "code",
   "execution_count": 4,
   "metadata": {},
   "outputs": [],
   "source": [
    "\"\"\"\n",
    "Após preenchermos os campos de datas com valores padrões nas linhas que não tinham valor algum, enfim podemos\n",
    "inserir as novas colunas que contém a contagem de dias entre a efetivação da matricula e a relização da tarefa X\n",
    "\"\"\"\n",
    "\n",
    "# Criamos uma função que irá fazer esse cálculo e retornar um dataframe com as novas colunas\n",
    "def calculate_dates_between(df_initial_date, df_list_of_dates, columns_name):\n",
    "    # Geramos um novo dataframe que irá comportar as diferenças entre as datas\n",
    "    df_dates_between = pd.DataFrame()\n",
    "\n",
    "    # Fazemos o calculo das diferenãs entre datas, inserindo no dataframe criado acima\n",
    "    for index, item in enumerate(df_list_of_dates):\n",
    "        df_dates_between[f'{columns_name}_{index+1}'] = (df_list_of_dates[item] - df_initial_date).dt.days\n",
    "    \n",
    "    # E setamos todos os valores < 0  = -1\n",
    "    df_dates_between = df_dates_between.clip(lower=-1)\n",
    "\n",
    "    return df_dates_between\n",
    "\n",
    "initial_date = dataset[\"dt_inscricao\"]\n",
    "list_of_dates = dataset.filter(like='data_entrega_atividade_')\n",
    "\n",
    "dif_between_dates = calculate_dates_between(\n",
    "    initial_date, \n",
    "    list_of_dates, \n",
    "    columns_name='dias_atividade',\n",
    ")\n",
    "\n",
    "# Por fim, inserimos essas novas colunas no nosso df_filtrado:\n",
    "dataset[[*list(dif_between_dates)]] = dif_between_dates\n",
    "dataset = dataset.drop([*list_of_dates.columns], axis=1)"
   ]
  },
  {
   "cell_type": "code",
   "execution_count": 5,
   "metadata": {},
   "outputs": [],
   "source": [
    "n_dias = [1,SUBSET_DIAS + 1]"
   ]
  },
  {
   "cell_type": "markdown",
   "metadata": {},
   "source": [
    "### Populando com colunas de atividades feitas até o dia N"
   ]
  },
  {
   "cell_type": "code",
   "execution_count": 6,
   "metadata": {},
   "outputs": [],
   "source": [
    "\"\"\"\n",
    "Como temos agora as colunas com os dias entre matricula e realização de atividades, podemos calcular o número\n",
    "de atividades feitas até N dias. Para isso criaremos outra função:\n",
    "\"\"\"\n",
    "\n",
    "def populate_by_range_days(dataset, n_dias, column_name = 'atividades_ate_dia_'):\n",
    "    for i in range(*n_dias):\n",
    "        dias_atividades = dataset.filter(like=\"dias_atividade\")\n",
    "        dias_atividades = dias_atividades[(dias_atividades <= i) & (dias_atividades != -1)].replace({0: True})\n",
    "        dias_atividades = dias_atividades.fillna(False)\n",
    "        dias_atividades = dias_atividades.astype('bool')\n",
    "        dataset[f\"atividades_ate_dia_{i}\"] = dias_atividades.sum(axis=1)\n",
    "    return dataset\n",
    "\n",
    "\n",
    "dataset = populate_by_range_days(dataset, n_dias=n_dias)\n",
    "\n",
    "\"\"\"\n",
    "Como a data de inscrição já não importa mais, iremos remover ela também.\n",
    "\"\"\"\n",
    "dataset = dataset.drop(\"dt_inscricao\", axis=1)"
   ]
  },
  {
   "cell_type": "markdown",
   "metadata": {},
   "source": [
    "### Tratando dados faltantes"
   ]
  },
  {
   "cell_type": "code",
   "execution_count": 7,
   "metadata": {
    "scrolled": true
   },
   "outputs": [
    {
     "data": {
      "text/plain": [
       "['sg_uf',\n",
       " 'sg_pais',\n",
       " 'tp_poder_execut_legisl_judic',\n",
       " 'esfera',\n",
       " 'nota_aluno_atividade_1',\n",
       " 'nota_aluno_atividade_2',\n",
       " 'nota_aluno_atividade_3',\n",
       " 'nota_aluno_atividade_4',\n",
       " 'nota_aluno_atividade_5',\n",
       " 'nota_aluno_atividade_6',\n",
       " 'nota_aluno_atividade_7',\n",
       " 'nota_aluno_atividade_8',\n",
       " 'nota_aluno_atividade_9',\n",
       " 'nota_aluno_atividade_10',\n",
       " 'nota_aluno_atividade_11',\n",
       " 'nota_aluno_atividade_12',\n",
       " 'nota_aluno_atividade_13',\n",
       " 'nota_aluno_atividade_14',\n",
       " 'nota_aluno_atividade_15',\n",
       " 'nota_aluno_atividade_16',\n",
       " 'nota_aluno_atividade_17',\n",
       " 'nota_aluno_atividade_18']"
      ]
     },
     "execution_count": 7,
     "metadata": {},
     "output_type": "execute_result"
    }
   ],
   "source": [
    "\"\"\"\n",
    "Para podermos seguir com a utlização de algoritmos, temos antes que tratar os dados faltantes. Primeiramente \n",
    "devemos ver quais colunas possuem dados faltantes (ou NaN).\n",
    "\n",
    "\"\"\"\n",
    "dataset.columns[dataset.isnull().any()].tolist()"
   ]
  },
  {
   "cell_type": "code",
   "execution_count": 8,
   "metadata": {},
   "outputs": [],
   "source": [
    "#Para as notas, podemos assumir que valores nulos são atividades não feitas. dessas forma:\n",
    "dataset[dataset.filter(like='nota_aluno_atividade').columns] = dataset.filter(like='nota_aluno_atividade').fillna(0)\n",
    "\n",
    "# Para as demais simplesmente inserimos 'sem_{}'\n",
    "dataset['sg_uf'] = dataset['sg_uf'].fillna('sem_uf')\n",
    "dataset['tp_poder_execut_legisl_judic'] = dataset['tp_poder_execut_legisl_judic'].fillna('sem_tp_poder')\n",
    "dataset['esfera'] = dataset['esfera'].fillna('sem_esfera')\n",
    "dataset['sg_pais'] = dataset['sg_pais'].fillna('sem_pais')\n"
   ]
  },
  {
   "cell_type": "markdown",
   "metadata": {},
   "source": [
    "### Fazendo o encode no dataset "
   ]
  },
  {
   "cell_type": "code",
   "execution_count": 10,
   "metadata": {},
   "outputs": [],
   "source": [
    "class MultiColumnLabelEncoder:\n",
    "    def __init__(self,columns = None):\n",
    "        self.columns = columns # array of column names to encode\n",
    "        self.encoded_columns = []\n",
    "        \n",
    "    def fit(self,X,y=None):\n",
    "        return self # not relevant here\n",
    "\n",
    "    def transform(self,X):\n",
    "        '''\n",
    "        Transforms columns of X specified in self.columns using\n",
    "        LabelEncoder(). If no columns specified, transforms all\n",
    "        columns in X.\n",
    "        '''\n",
    "        output = X.copy()\n",
    "        if self.columns is not None:\n",
    "            \n",
    "            self.encoded_columns = pd.get_dummies(output[self.columns])\n",
    "            output = output.drop(columns_to_encode, axis = 1)\n",
    "            output = output.join(self.encoded_columns)\n",
    "        return output\n",
    "\n",
    "    def fit_transform(self,X,y=None):\n",
    "        return self.fit(X,y).transform(X)\n",
    "\n",
    "\n",
    "columns_to_encode = [\n",
    "    'sg_uf', \n",
    "    'tp_sexo', \n",
    "    'sg_pais', \n",
    "    'sit_matricula',\n",
    "    'tp_servidor_militar_cidadao',\n",
    "    'tp_poder_execut_legisl_judic',\n",
    "    'esfera'\n",
    "]\n",
    "\n",
    "matricula = dataset['sit_matricula']\n",
    "\n",
    "dataset = MultiColumnLabelEncoder(columns_to_encode).fit_transform(dataset)"
   ]
  },
  {
   "cell_type": "markdown",
   "metadata": {},
   "source": [
    "### Verificando a importância dos atributos em relação ao sit_matricula"
   ]
  },
  {
   "cell_type": "code",
   "execution_count": 11,
   "metadata": {
    "scrolled": true
   },
   "outputs": [
    {
     "name": "stdout",
     "output_type": "stream",
     "text": [
      "sit_matricula_APROVADO                       1.000000\n",
      "nota_aluno_atividade_9                       0.979613\n",
      "nota_aluno_atividade_7                       0.976175\n",
      "nota_aluno_atividade_5                       0.973719\n",
      "nota_aluno_atividade_8                       0.973534\n",
      "nota_aluno_atividade_6                       0.970459\n",
      "nota_aluno_atividade_2                       0.962630\n",
      "nota_aluno_atividade_1                       0.960906\n",
      "nota_aluno_atividade_10                      0.959570\n",
      "nota_aluno_atividade_4                       0.956980\n",
      "nota_aluno_atividade_12                      0.953273\n",
      "nota_aluno_atividade_13                      0.952820\n",
      "nota_aluno_atividade_3                       0.939543\n",
      "nota_aluno_atividade_14                      0.925993\n",
      "nota_aluno_atividade_11                      0.916812\n",
      "nota_aluno_atividade_15                      0.916237\n",
      "nota_aluno_atividade_16                      0.913994\n",
      "nota_aluno_atividade_17                      0.913380\n",
      "nota_aluno_atividade_18                      0.905887\n",
      "atividades_ate_dia_9                         0.726169\n",
      "atividades_ate_dia_8                         0.705485\n",
      "atividades_ate_dia_7                         0.675749\n",
      "atividades_ate_dia_6                         0.638606\n",
      "atividades_ate_dia_5                         0.603525\n",
      "dias_atividade_13                            0.595874\n",
      "dias_atividade_14                            0.595147\n",
      "dias_atividade_15                            0.593869\n",
      "dias_atividade_12                            0.592618\n",
      "dias_atividade_16                            0.591965\n",
      "dias_atividade_17                            0.589826\n",
      "dias_atividade_18                            0.588259\n",
      "dias_atividade_11                            0.588044\n",
      "dias_atividade_10                            0.582912\n",
      "atividades_ate_dia_4                         0.570812\n",
      "dias_atividade_9                             0.557272\n",
      "dias_atividade_8                             0.547864\n",
      "atividades_ate_dia_3                         0.534432\n",
      "dias_atividade_7                             0.533229\n",
      "atividades_ate_dia_2                         0.498245\n",
      "dias_atividade_6                             0.494061\n",
      "dias_atividade_5                             0.486489\n",
      "dias_atividade_4                             0.468877\n",
      "dias_atividade_3                             0.455110\n",
      "atividades_ate_dia_1                         0.452871\n",
      "dias_atividade_2                             0.404245\n",
      "dias_atividade_1                             0.396936\n",
      "tp_servidor_militar_cidadao_M                0.189108\n",
      "sg_pais_BR                                   0.161928\n",
      "sg_uf_RJ                                     0.154600\n",
      "tp_poder_execut_legisl_judic_sem_tp_poder    0.139784\n",
      "esfera_E                                     0.097010\n",
      "sg_uf_AL                                     0.065080\n",
      "tp_sexo_M                                    0.051671\n",
      "sg_uf_PI                                     0.028098\n",
      "sg_uf_MG                                     0.026202\n",
      "tp_servidor_militar_cidadao_E                0.020990\n",
      "sg_uf_RS                                     0.006871\n",
      "sg_pais_MZ                                   0.003678\n",
      "tp_poder_execut_legisl_judic_J               0.003132\n",
      "sg_pais_FR                                   0.002601\n",
      "sg_pais_GT                                   0.002601\n",
      "sg_pais_MA                                   0.002601\n",
      "sg_pais_EG                                   0.002601\n",
      "sg_pais_SP                                   0.002601\n",
      "sg_pais_SZ                                   0.002601\n",
      "sg_pais_JE                                   0.002601\n",
      "sg_pais_BF                                   0.002601\n",
      "sg_pais_PA                                   0.002601\n",
      "sg_pais_BX                                   0.002601\n",
      "sg_pais_TW                                   0.002601\n",
      "sg_pais_PM                                   0.002601\n",
      "sg_pais_TT                                   0.002601\n",
      "sg_pais_MY                                   0.002601\n",
      "sg_pais_NU                                   0.002601\n",
      "sg_pais_CU                                   0.002601\n",
      "sg_pais_CL                                   0.002601\n",
      "sg_uf_MT                                     0.001480\n",
      "sg_uf_TO                                     0.000776\n",
      "sg_uf_SE                                     0.000569\n",
      "sg_pais_AR                                   0.000373\n",
      "sg_pais_IT                                   0.000215\n",
      "sg_pais_PT                                  -0.000524\n",
      "tp_sexo_O                                   -0.000670\n",
      "sg_pais_GM                                  -0.001576\n",
      "sg_pais_MX                                  -0.001576\n",
      "sg_pais_AF                                  -0.001576\n",
      "sg_pais_KE                                  -0.001576\n",
      "sg_pais_CV                                  -0.001576\n",
      "sg_pais_UY                                  -0.002228\n",
      "sg_pais_AX                                  -0.004829\n",
      "sg_pais_PU                                  -0.004829\n",
      "sg_pais_AA                                  -0.004829\n",
      "sg_pais_PE                                  -0.004829\n",
      "sg_pais_FG                                  -0.004829\n",
      "sg_pais_VE                                  -0.004829\n",
      "sg_pais_ML                                  -0.004829\n",
      "sg_pais_AY                                  -0.004829\n",
      "sg_uf_RR                                    -0.005036\n",
      "sg_pais_US                                  -0.005048\n",
      "sg_uf_GO                                    -0.005359\n",
      "sg_uf_AP                                    -0.005748\n",
      "tp_servidor_militar_cidadao_ETR             -0.006817\n",
      "sg_uf_AC                                    -0.006856\n",
      "sg_pais_AO                                  -0.007476\n",
      "sg_uf_MA                                    -0.007658\n",
      "sg_uf_SC                                    -0.008669\n",
      "tp_sexo_                                    -0.008796\n",
      "sg_uf_sem_uf                                -0.010105\n",
      "sg_uf_PB                                    -0.010404\n",
      "sg_pais_BL                                  -0.010799\n",
      "sg_uf_ES                                    -0.013312\n",
      "sg_uf_MS                                    -0.013391\n",
      "sit_matricula_REPROVADO                     -0.013660\n",
      "sg_uf_AM                                    -0.018647\n",
      "tp_poder_execut_legisl_judic_L              -0.021844\n",
      "sg_uf_PA                                    -0.022022\n",
      "sg_uf_RO                                    -0.023098\n",
      "sg_uf_PR                                    -0.023601\n",
      "sg_uf_CE                                    -0.025963\n",
      "tp_servidor_militar_cidadao_SV              -0.029457\n",
      "tp_poder_execut_legisl_judic_O              -0.032359\n",
      "sg_uf_PE                                    -0.036610\n",
      "esfera_F                                    -0.036628\n",
      "esfera_sem_esfera                           -0.042725\n",
      "sg_uf_DF                                    -0.045947\n",
      "tp_servidor_militar_cidadao_C               -0.046233\n",
      "tp_sexo_F                                   -0.051485\n",
      "sg_uf_RN                                    -0.054276\n",
      "sg_uf_SP                                    -0.059900\n",
      "sg_uf_BA                                    -0.092159\n",
      "esfera_M                                    -0.092231\n",
      "sit_matricula_DESISTENTE                    -0.116323\n",
      "tp_poder_execut_legisl_judic_E              -0.128217\n",
      "sit_matricula_TRANCAMENTO                   -0.137543\n",
      "tp_servidor_militar_cidadao_S               -0.139784\n",
      "sg_pais_sem_pais                            -0.161767\n",
      "sit_matricula_ABANDONO                      -0.961991\n",
      "Name: sit_matricula_APROVADO, dtype: float64\n"
     ]
    }
   ],
   "source": [
    "pd.options.display.max_rows = 400\n",
    "\n",
    "corr_matrix = dataset.corr()\n",
    "print(corr_matrix['sit_matricula_APROVADO'].sort_values(ascending=False))"
   ]
  },
  {
   "cell_type": "code",
   "execution_count": 12,
   "metadata": {},
   "outputs": [
    {
     "name": "stdout",
     "output_type": "stream",
     "text": [
      "sit_matricula_ABANDONO                       1.000000\n",
      "sg_pais_sem_pais                             0.164940\n",
      "tp_servidor_militar_cidadao_S                0.138941\n",
      "tp_poder_execut_legisl_judic_E               0.128471\n",
      "esfera_M                                     0.090836\n",
      "sg_uf_BA                                     0.086418\n",
      "sg_uf_RN                                     0.058705\n",
      "sg_uf_SP                                     0.058001\n",
      "tp_sexo_F                                    0.049835\n",
      "tp_servidor_militar_cidadao_C                0.047352\n",
      "sg_uf_DF                                     0.043925\n",
      "sg_uf_PE                                     0.039349\n",
      "esfera_sem_esfera                            0.037722\n",
      "esfera_F                                     0.033523\n",
      "tp_poder_execut_legisl_judic_O               0.029549\n",
      "sg_uf_CE                                     0.025227\n",
      "tp_poder_execut_legisl_judic_L               0.023253\n",
      "tp_servidor_militar_cidadao_SV               0.022102\n",
      "sg_uf_RO                                     0.021701\n",
      "sg_uf_PR                                     0.021523\n",
      "sg_uf_PA                                     0.020563\n",
      "sg_uf_AM                                     0.017504\n",
      "sg_uf_ES                                     0.014727\n",
      "sg_uf_MS                                     0.014020\n",
      "sg_pais_BL                                   0.011226\n",
      "sg_uf_PB                                     0.009839\n",
      "sg_uf_sem_uf                                 0.009839\n",
      "sg_uf_SC                                     0.008577\n",
      "sg_uf_MA                                     0.008205\n",
      "sg_pais_AO                                   0.007861\n",
      "tp_sexo_                                     0.006155\n",
      "sg_uf_AC                                     0.005442\n",
      "sg_uf_AP                                     0.005057\n",
      "sg_pais_AY                                   0.005020\n",
      "sg_pais_ML                                   0.005020\n",
      "sg_pais_VE                                   0.005020\n",
      "sg_pais_FG                                   0.005020\n",
      "sg_pais_PE                                   0.005020\n",
      "sg_pais_AA                                   0.005020\n",
      "sg_pais_AX                                   0.005020\n",
      "sg_pais_PU                                   0.005020\n",
      "sg_uf_GO                                     0.004645\n",
      "sg_uf_RR                                     0.003858\n",
      "tp_servidor_militar_cidadao_ETR              0.003752\n",
      "sg_pais_US                                   0.003496\n",
      "sg_pais_UY                                   0.002518\n",
      "sg_pais_MX                                   0.001780\n",
      "sg_pais_AF                                   0.001780\n",
      "sg_pais_CV                                   0.001780\n",
      "sg_pais_GM                                   0.001780\n",
      "sg_pais_PT                                   0.000902\n",
      "sg_pais_AR                                   0.000016\n",
      "sg_pais_IT                                   0.000009\n",
      "tp_sexo_O                                   -0.000721\n",
      "sg_uf_SE                                    -0.000926\n",
      "sg_uf_TO                                    -0.000963\n",
      "sg_uf_MT                                    -0.001898\n",
      "sg_pais_BX                                  -0.002502\n",
      "sg_pais_PM                                  -0.002502\n",
      "sg_pais_SP                                  -0.002502\n",
      "sg_pais_TT                                  -0.002502\n",
      "sg_pais_CU                                  -0.002502\n",
      "sg_pais_CL                                  -0.002502\n",
      "sg_pais_NU                                  -0.002502\n",
      "sg_pais_PA                                  -0.002502\n",
      "sg_pais_MY                                  -0.002502\n",
      "sg_pais_EG                                  -0.002502\n",
      "sg_pais_GT                                  -0.002502\n",
      "sg_pais_MA                                  -0.002502\n",
      "sg_pais_TW                                  -0.002502\n",
      "sg_pais_SZ                                  -0.002502\n",
      "sg_pais_BF                                  -0.002502\n",
      "sg_pais_FR                                  -0.002502\n",
      "sg_pais_JE                                  -0.002502\n",
      "sg_pais_KE                                  -0.003539\n",
      "sg_pais_MZ                                  -0.003539\n",
      "tp_poder_execut_legisl_judic_J              -0.004773\n",
      "sit_matricula_REPROVADO                     -0.007077\n",
      "sg_uf_RS                                    -0.008493\n",
      "tp_servidor_militar_cidadao_E               -0.018112\n",
      "sg_uf_PI                                    -0.026600\n",
      "sg_uf_MG                                    -0.027690\n",
      "tp_sexo_M                                   -0.049909\n",
      "sit_matricula_DESISTENTE                    -0.060269\n",
      "sg_uf_AL                                    -0.062457\n",
      "sit_matricula_TRANCAMENTO                   -0.071263\n",
      "esfera_E                                    -0.090599\n",
      "tp_poder_execut_legisl_judic_sem_tp_poder   -0.138941\n",
      "sg_uf_RJ                                    -0.150050\n",
      "sg_pais_BR                                  -0.165059\n",
      "tp_servidor_militar_cidadao_M               -0.186158\n",
      "dias_atividade_1                            -0.402713\n",
      "dias_atividade_2                            -0.408244\n",
      "atividades_ate_dia_1                        -0.442013\n",
      "dias_atividade_3                            -0.457117\n",
      "dias_atividade_4                            -0.467686\n",
      "dias_atividade_5                            -0.482393\n",
      "atividades_ate_dia_2                        -0.485950\n",
      "dias_atividade_6                            -0.488372\n",
      "atividades_ate_dia_3                        -0.520867\n",
      "dias_atividade_7                            -0.521886\n",
      "dias_atividade_8                            -0.533958\n",
      "dias_atividade_9                            -0.541798\n",
      "atividades_ate_dia_4                        -0.555964\n",
      "dias_atividade_10                           -0.564363\n",
      "dias_atividade_18                           -0.566354\n",
      "dias_atividade_17                           -0.567851\n",
      "dias_atividade_11                           -0.568568\n",
      "dias_atividade_16                           -0.570005\n",
      "dias_atividade_12                           -0.571551\n",
      "dias_atividade_15                           -0.571781\n",
      "dias_atividade_14                           -0.572905\n",
      "dias_atividade_13                           -0.574069\n",
      "atividades_ate_dia_5                        -0.587463\n",
      "atividades_ate_dia_6                        -0.621302\n",
      "atividades_ate_dia_7                        -0.657169\n",
      "atividades_ate_dia_8                        -0.685945\n",
      "atividades_ate_dia_9                        -0.706059\n",
      "nota_aluno_atividade_18                     -0.871891\n",
      "nota_aluno_atividade_17                     -0.879099\n",
      "nota_aluno_atividade_16                     -0.879637\n",
      "nota_aluno_atividade_15                     -0.881627\n",
      "nota_aluno_atividade_11                     -0.883392\n",
      "nota_aluno_atividade_14                     -0.890949\n",
      "nota_aluno_atividade_13                     -0.917103\n",
      "nota_aluno_atividade_12                     -0.917971\n",
      "nota_aluno_atividade_3                      -0.925433\n",
      "nota_aluno_atividade_10                     -0.925531\n",
      "nota_aluno_atividade_4                      -0.939026\n",
      "nota_aluno_atividade_8                      -0.942729\n",
      "nota_aluno_atividade_6                      -0.947410\n",
      "nota_aluno_atividade_9                      -0.947478\n",
      "nota_aluno_atividade_7                      -0.947998\n",
      "nota_aluno_atividade_5                      -0.952186\n",
      "nota_aluno_atividade_2                      -0.960344\n",
      "nota_aluno_atividade_1                      -0.961728\n",
      "sit_matricula_APROVADO                      -0.961991\n",
      "Name: sit_matricula_ABANDONO, dtype: float64\n"
     ]
    }
   ],
   "source": [
    "print(corr_matrix['sit_matricula_ABANDONO'].sort_values(ascending=False))"
   ]
  },
  {
   "cell_type": "code",
   "execution_count": 13,
   "metadata": {},
   "outputs": [
    {
     "name": "stdout",
     "output_type": "stream",
     "text": [
      "sit_matricula_TRANCAMENTO                    1.000000\n",
      "esfera_F                                     0.024889\n",
      "sg_pais_KE                                   0.024574\n",
      "tp_servidor_militar_cidadao_SV               0.019842\n",
      "sg_pais_sem_pais                             0.019340\n",
      "esfera_sem_esfera                            0.016058\n",
      "sg_uf_PR                                     0.014143\n",
      "tp_sexo_                                     0.013604\n",
      "esfera_M                                     0.012436\n",
      "sg_uf_BA                                     0.011998\n",
      "sg_uf_SP                                     0.011642\n",
      "tp_servidor_militar_cidadao_S                0.011508\n",
      "sg_uf_DF                                     0.010917\n",
      "sg_uf_RO                                     0.010357\n",
      "tp_servidor_militar_cidadao_C                0.009090\n",
      "tp_poder_execut_legisl_judic_J               0.009078\n",
      "sg_uf_CE                                     0.008679\n",
      "tp_poder_execut_legisl_judic_E               0.007900\n",
      "sg_uf_PA                                     0.007722\n",
      "sg_uf_RS                                     0.007322\n",
      "tp_poder_execut_legisl_judic_O               0.004302\n",
      "sg_uf_MT                                     0.004084\n",
      "sg_uf_sem_uf                                 0.002981\n",
      "tp_sexo_O                                    0.002975\n",
      "sg_uf_AP                                     0.002966\n",
      "sg_uf_GO                                     0.002554\n",
      "sg_uf_TO                                     0.002161\n",
      "sg_uf_AM                                     0.002084\n",
      "tp_sexo_F                                    0.001561\n",
      "sg_uf_PB                                     0.000725\n",
      "sg_uf_RR                                     0.000549\n",
      "sg_uf_SE                                     0.000235\n",
      "sg_uf_MA                                     0.000191\n",
      "sg_uf_SC                                    -0.000162\n",
      "sg_pais_CU                                  -0.000358\n",
      "sg_pais_BX                                  -0.000358\n",
      "sg_pais_TT                                  -0.000358\n",
      "sg_pais_PU                                  -0.000358\n",
      "sg_pais_PM                                  -0.000358\n",
      "sg_pais_AX                                  -0.000358\n",
      "sg_pais_AA                                  -0.000358\n",
      "sg_pais_SP                                  -0.000358\n",
      "sg_pais_PE                                  -0.000358\n",
      "sg_pais_CL                                  -0.000358\n",
      "sg_pais_NU                                  -0.000358\n",
      "sg_pais_FG                                  -0.000358\n",
      "sg_pais_VE                                  -0.000358\n",
      "sg_pais_PA                                  -0.000358\n",
      "sg_pais_MY                                  -0.000358\n",
      "sg_pais_EG                                  -0.000358\n",
      "sg_pais_ML                                  -0.000358\n",
      "sg_pais_GT                                  -0.000358\n",
      "sg_pais_MA                                  -0.000358\n",
      "sg_pais_TW                                  -0.000358\n",
      "sg_pais_BF                                  -0.000358\n",
      "sg_pais_SZ                                  -0.000358\n",
      "sg_pais_AY                                  -0.000358\n",
      "sg_pais_JE                                  -0.000358\n",
      "sg_pais_FR                                  -0.000358\n",
      "sg_pais_GM                                  -0.000506\n",
      "sg_pais_MX                                  -0.000506\n",
      "sg_pais_CV                                  -0.000506\n",
      "sg_pais_AF                                  -0.000506\n",
      "sg_pais_MZ                                  -0.000506\n",
      "sg_uf_ES                                    -0.000511\n",
      "sg_pais_IT                                  -0.000620\n",
      "sg_pais_UY                                  -0.000716\n",
      "sg_pais_AO                                  -0.000800\n",
      "sg_pais_BL                                  -0.000800\n",
      "sg_pais_PT                                  -0.001012\n",
      "sit_matricula_REPROVADO                     -0.001012\n",
      "sg_pais_AR                                  -0.001073\n",
      "sg_pais_US                                  -0.001290\n",
      "sg_uf_MS                                    -0.001351\n",
      "sg_uf_AC                                    -0.001558\n",
      "tp_sexo_M                                   -0.001937\n",
      "sg_uf_PI                                    -0.002721\n",
      "tp_servidor_militar_cidadao_ETR             -0.003351\n",
      "tp_poder_execut_legisl_judic_L              -0.005352\n",
      "sg_uf_RN                                    -0.005665\n",
      "sg_uf_PE                                    -0.005816\n",
      "sit_matricula_DESISTENTE                    -0.008617\n",
      "sg_uf_MG                                    -0.010460\n",
      "tp_poder_execut_legisl_judic_sem_tp_poder   -0.011508\n",
      "sg_uf_RJ                                    -0.012538\n",
      "tp_servidor_militar_cidadao_E               -0.013407\n",
      "sg_uf_AL                                    -0.015558\n",
      "tp_servidor_militar_cidadao_M               -0.015586\n",
      "sg_pais_BR                                  -0.019338\n",
      "dias_atividade_1                            -0.027048\n",
      "dias_atividade_2                            -0.031865\n",
      "esfera_E                                    -0.036845\n",
      "dias_atividade_3                            -0.038697\n",
      "dias_atividade_4                            -0.045578\n",
      "dias_atividade_5                            -0.050672\n",
      "dias_atividade_6                            -0.054962\n",
      "atividades_ate_dia_1                        -0.057257\n",
      "dias_atividade_7                            -0.063042\n",
      "atividades_ate_dia_2                        -0.063135\n",
      "atividades_ate_dia_3                        -0.068021\n",
      "dias_atividade_8                            -0.068850\n",
      "dias_atividade_9                            -0.071153\n",
      "sit_matricula_ABANDONO                      -0.071263\n",
      "atividades_ate_dia_4                        -0.072833\n",
      "dias_atividade_10                           -0.076161\n",
      "atividades_ate_dia_5                        -0.077084\n",
      "dias_atividade_11                           -0.077864\n",
      "dias_atividade_12                           -0.080106\n",
      "dias_atividade_18                           -0.080552\n",
      "dias_atividade_17                           -0.080765\n",
      "dias_atividade_16                           -0.081056\n",
      "dias_atividade_15                           -0.081063\n",
      "dias_atividade_13                           -0.081231\n",
      "dias_atividade_14                           -0.081558\n",
      "atividades_ate_dia_6                        -0.081847\n",
      "atividades_ate_dia_7                        -0.086681\n",
      "atividades_ate_dia_8                        -0.090732\n",
      "atividades_ate_dia_9                        -0.093453\n",
      "nota_aluno_atividade_1                      -0.094477\n",
      "nota_aluno_atividade_2                      -0.098350\n",
      "nota_aluno_atividade_3                      -0.108053\n",
      "nota_aluno_atividade_4                      -0.114408\n",
      "nota_aluno_atividade_5                      -0.119948\n",
      "nota_aluno_atividade_6                      -0.120488\n",
      "nota_aluno_atividade_18                     -0.124456\n",
      "nota_aluno_atividade_11                     -0.124534\n",
      "nota_aluno_atividade_17                     -0.125449\n",
      "nota_aluno_atividade_16                     -0.125527\n",
      "nota_aluno_atividade_7                      -0.125885\n",
      "nota_aluno_atividade_15                     -0.125913\n",
      "nota_aluno_atividade_14                     -0.127301\n",
      "nota_aluno_atividade_8                      -0.128731\n",
      "nota_aluno_atividade_10                     -0.129579\n",
      "nota_aluno_atividade_12                     -0.129942\n",
      "nota_aluno_atividade_9                      -0.130466\n",
      "nota_aluno_atividade_13                     -0.130748\n",
      "sit_matricula_APROVADO                      -0.137543\n",
      "Name: sit_matricula_TRANCAMENTO, dtype: float64\n"
     ]
    }
   ],
   "source": [
    "print(corr_matrix['sit_matricula_TRANCAMENTO'].sort_values(ascending=False))"
   ]
  },
  {
   "cell_type": "code",
   "execution_count": 14,
   "metadata": {},
   "outputs": [
    {
     "name": "stdout",
     "output_type": "stream",
     "text": [
      "sit_matricula_REPROVADO                      1.000000\n",
      "tp_poder_execut_legisl_judic_L               0.014336\n",
      "sg_uf_MG                                     0.010490\n",
      "dias_atividade_6                             0.009946\n",
      "dias_atividade_18                            0.009939\n",
      "dias_atividade_17                            0.009341\n",
      "dias_atividade_5                             0.009059\n",
      "dias_atividade_16                            0.008884\n",
      "dias_atividade_7                             0.008826\n",
      "dias_atividade_4                             0.008237\n",
      "dias_atividade_8                             0.008066\n",
      "dias_atividade_9                             0.007900\n",
      "esfera_E                                     0.007727\n",
      "dias_atividade_10                            0.007152\n",
      "dias_atividade_12                            0.007131\n",
      "dias_atividade_13                            0.007122\n",
      "dias_atividade_14                            0.007105\n",
      "dias_atividade_11                            0.007006\n",
      "atividades_ate_dia_9                         0.006945\n",
      "atividades_ate_dia_8                         0.006316\n",
      "dias_atividade_2                             0.006166\n",
      "dias_atividade_1                             0.006136\n",
      "dias_atividade_15                            0.006096\n",
      "dias_atividade_3                             0.005844\n",
      "atividades_ate_dia_2                         0.004877\n",
      "tp_sexo_F                                    0.004831\n",
      "atividades_ate_dia_4                         0.004613\n",
      "atividades_ate_dia_3                         0.004345\n",
      "tp_servidor_militar_cidadao_M                0.004201\n",
      "sg_pais_BR                                   0.004187\n",
      "atividades_ate_dia_5                         0.004152\n",
      "atividades_ate_dia_6                         0.003987\n",
      "atividades_ate_dia_7                         0.003964\n",
      "tp_poder_execut_legisl_judic_sem_tp_poder    0.003574\n",
      "sg_uf_AL                                     0.003334\n",
      "tp_servidor_militar_cidadao_E                0.002725\n",
      "nota_aluno_atividade_18                      0.002201\n",
      "nota_aluno_atividade_17                      0.001649\n",
      "sg_uf_RJ                                     0.001472\n",
      "nota_aluno_atividade_1                       0.000966\n",
      "nota_aluno_atividade_4                       0.000447\n",
      "atividades_ate_dia_1                         0.000165\n",
      "sg_pais_PA                                  -0.000036\n",
      "sg_pais_AX                                  -0.000036\n",
      "sg_pais_BX                                  -0.000036\n",
      "sg_pais_MY                                  -0.000036\n",
      "sg_pais_TT                                  -0.000036\n",
      "sg_pais_PU                                  -0.000036\n",
      "sg_pais_PM                                  -0.000036\n",
      "sg_pais_CU                                  -0.000036\n",
      "sg_pais_AA                                  -0.000036\n",
      "sg_pais_CL                                  -0.000036\n",
      "sg_pais_NU                                  -0.000036\n",
      "sg_pais_FG                                  -0.000036\n",
      "sg_pais_EG                                  -0.000036\n",
      "sg_pais_ML                                  -0.000036\n",
      "sg_pais_GT                                  -0.000036\n",
      "sg_pais_TW                                  -0.000036\n",
      "sg_pais_MA                                  -0.000036\n",
      "sg_pais_BF                                  -0.000036\n",
      "sg_pais_SZ                                  -0.000036\n",
      "sg_pais_JE                                  -0.000036\n",
      "sg_pais_AY                                  -0.000036\n",
      "sg_pais_FR                                  -0.000036\n",
      "sg_pais_PE                                  -0.000036\n",
      "sg_pais_SP                                  -0.000036\n",
      "sg_pais_VE                                  -0.000036\n",
      "sg_pais_MX                                  -0.000050\n",
      "sg_pais_GM                                  -0.000050\n",
      "sg_pais_CV                                  -0.000050\n",
      "sg_pais_MZ                                  -0.000050\n",
      "sg_pais_AF                                  -0.000050\n",
      "sg_pais_KE                                  -0.000050\n",
      "sg_pais_IT                                  -0.000062\n",
      "sg_pais_UY                                  -0.000071\n",
      "sg_pais_AO                                  -0.000079\n",
      "sg_pais_BL                                  -0.000079\n",
      "tp_sexo_                                    -0.000087\n",
      "sg_pais_PT                                  -0.000100\n",
      "sg_pais_AR                                  -0.000107\n",
      "sg_pais_US                                  -0.000128\n",
      "tp_sexo_O                                   -0.000236\n",
      "sg_uf_RR                                    -0.000328\n",
      "sg_uf_AP                                    -0.000375\n",
      "sg_uf_TO                                    -0.000516\n",
      "sg_uf_RO                                    -0.000612\n",
      "sg_uf_ES                                    -0.000735\n",
      "sg_uf_MT                                    -0.000758\n",
      "sg_uf_MS                                    -0.000780\n",
      "sg_uf_AC                                    -0.000791\n",
      "sg_uf_sem_uf                                -0.000803\n",
      "sg_uf_PA                                    -0.000803\n",
      "nota_aluno_atividade_9                      -0.000812\n",
      "sg_uf_AM                                    -0.000841\n",
      "sit_matricula_DESISTENTE                    -0.000856\n",
      "sg_uf_SE                                    -0.000928\n",
      "sg_uf_SC                                    -0.000948\n",
      "sit_matricula_TRANCAMENTO                   -0.001012\n",
      "sg_uf_PB                                    -0.001090\n",
      "tp_servidor_militar_cidadao_ETR             -0.001188\n",
      "sg_uf_CE                                    -0.001220\n",
      "sg_uf_PR                                    -0.001246\n",
      "sg_uf_MA                                    -0.001276\n",
      "tp_poder_execut_legisl_judic_O              -0.001315\n",
      "nota_aluno_atividade_7                      -0.001361\n",
      "sg_uf_PI                                    -0.001431\n",
      "sg_uf_GO                                    -0.001436\n",
      "tp_servidor_militar_cidadao_C               -0.001593\n",
      "sg_uf_RS                                    -0.001633\n",
      "nota_aluno_atividade_13                     -0.001744\n",
      "tp_poder_execut_legisl_judic_J              -0.001898\n",
      "esfera_M                                    -0.002110\n",
      "sg_uf_PE                                    -0.002120\n",
      "nota_aluno_atividade_16                     -0.002262\n",
      "sg_uf_SP                                    -0.002316\n",
      "tp_servidor_militar_cidadao_SV              -0.002331\n",
      "nota_aluno_atividade_12                     -0.002336\n",
      "nota_aluno_atividade_2                      -0.002357\n",
      "nota_aluno_atividade_5                      -0.002699\n",
      "sg_uf_BA                                    -0.002716\n",
      "sg_uf_RN                                    -0.002730\n",
      "nota_aluno_atividade_10                     -0.002948\n",
      "esfera_sem_esfera                           -0.003387\n",
      "tp_servidor_militar_cidadao_S               -0.003574\n",
      "nota_aluno_atividade_15                     -0.003700\n",
      "sg_uf_DF                                    -0.003864\n",
      "nota_aluno_atividade_8                      -0.003993\n",
      "sg_pais_sem_pais                            -0.004170\n",
      "nota_aluno_atividade_6                      -0.004538\n",
      "nota_aluno_atividade_3                      -0.004776\n",
      "tp_sexo_M                                   -0.004819\n",
      "tp_poder_execut_legisl_judic_E              -0.004890\n",
      "esfera_F                                    -0.005445\n",
      "nota_aluno_atividade_14                     -0.005959\n",
      "nota_aluno_atividade_11                     -0.006445\n",
      "sit_matricula_ABANDONO                      -0.007077\n",
      "sit_matricula_APROVADO                      -0.013660\n",
      "Name: sit_matricula_REPROVADO, dtype: float64\n"
     ]
    }
   ],
   "source": [
    "print(corr_matrix['sit_matricula_REPROVADO'].sort_values(ascending=False))"
   ]
  },
  {
   "cell_type": "code",
   "execution_count": 15,
   "metadata": {
    "scrolled": true
   },
   "outputs": [
    {
     "name": "stdout",
     "output_type": "stream",
     "text": [
      "sit_matricula_DESISTENTE                     1.000000\n",
      "nota_aluno_atividade_1                       0.049737\n",
      "nota_aluno_atividade_2                       0.037300\n",
      "dias_atividade_1                             0.035976\n",
      "dias_atividade_2                             0.031257\n",
      "sg_pais_BR                                   0.028574\n",
      "dias_atividade_3                             0.024781\n",
      "sg_uf_BA                                     0.024435\n",
      "tp_servidor_militar_cidadao_ETR              0.021599\n",
      "tp_servidor_militar_cidadao_SV               0.019794\n",
      "sg_uf_MG                                     0.017561\n",
      "dias_atividade_4                             0.013888\n",
      "tp_poder_execut_legisl_judic_O               0.012934\n",
      "esfera_sem_esfera                            0.012215\n",
      "sg_pais_US                                   0.010508\n",
      "tp_sexo_F                                    0.010308\n",
      "sg_uf_AC                                     0.010265\n",
      "sg_uf_RR                                     0.006286\n",
      "sg_uf_AM                                     0.005281\n",
      "tp_sexo_O                                    0.004299\n",
      "sg_uf_PB                                     0.003133\n",
      "dias_atividade_5                             0.002432\n",
      "sg_uf_DF                                     0.001988\n",
      "sg_uf_SE                                     0.001779\n",
      "sg_uf_GO                                     0.001496\n",
      "sg_uf_SC                                     0.001410\n",
      "sg_uf_SP                                     0.001226\n",
      "tp_servidor_militar_cidadao_S                0.001159\n",
      "sg_uf_AP                                     0.000782\n",
      "sg_uf_PA                                     0.000618\n",
      "esfera_E                                     0.000207\n",
      "sg_uf_RS                                     0.000103\n",
      "sg_pais_PA                                  -0.000303\n",
      "sg_pais_MY                                  -0.000303\n",
      "sg_pais_AX                                  -0.000303\n",
      "sg_pais_BX                                  -0.000303\n",
      "sg_pais_TT                                  -0.000303\n",
      "sg_pais_PU                                  -0.000303\n",
      "sg_pais_PM                                  -0.000303\n",
      "sg_pais_CU                                  -0.000303\n",
      "sg_pais_AA                                  -0.000303\n",
      "sg_pais_CL                                  -0.000303\n",
      "sg_pais_FG                                  -0.000303\n",
      "sg_pais_NU                                  -0.000303\n",
      "sg_pais_ML                                  -0.000303\n",
      "sg_pais_EG                                  -0.000303\n",
      "sg_pais_TW                                  -0.000303\n",
      "sg_pais_GT                                  -0.000303\n",
      "sg_pais_BF                                  -0.000303\n",
      "sg_pais_MA                                  -0.000303\n",
      "sg_pais_SZ                                  -0.000303\n",
      "sg_pais_JE                                  -0.000303\n",
      "sg_pais_AY                                  -0.000303\n",
      "sg_pais_FR                                  -0.000303\n",
      "sg_pais_SP                                  -0.000303\n",
      "sg_pais_PE                                  -0.000303\n",
      "sg_pais_VE                                  -0.000303\n",
      "esfera_M                                    -0.000318\n",
      "sg_pais_MX                                  -0.000428\n",
      "sg_pais_GM                                  -0.000428\n",
      "sg_pais_CV                                  -0.000428\n",
      "sg_pais_MZ                                  -0.000428\n",
      "sg_pais_AF                                  -0.000428\n",
      "sg_pais_KE                                  -0.000428\n",
      "sg_pais_IT                                  -0.000524\n",
      "sg_pais_UY                                  -0.000605\n",
      "sg_pais_AO                                  -0.000677\n",
      "sg_pais_BL                                  -0.000677\n",
      "tp_sexo_                                    -0.000741\n",
      "sit_matricula_REPROVADO                     -0.000856\n",
      "sg_pais_PT                                  -0.000856\n",
      "sg_uf_MS                                    -0.000892\n",
      "sg_pais_AR                                  -0.000908\n",
      "sg_uf_AL                                    -0.001115\n",
      "tp_poder_execut_legisl_judic_sem_tp_poder   -0.001159\n",
      "sg_uf_sem_uf                                -0.001245\n",
      "tp_poder_execut_legisl_judic_E              -0.001325\n",
      "sg_uf_TO                                    -0.001501\n",
      "tp_poder_execut_legisl_judic_J              -0.001572\n",
      "tp_poder_execut_legisl_judic_L              -0.001718\n",
      "tp_servidor_militar_cidadao_E               -0.001957\n",
      "dias_atividade_6                            -0.001992\n",
      "sg_uf_MT                                    -0.002506\n",
      "sg_uf_MA                                    -0.002589\n",
      "sg_uf_RO                                    -0.002780\n",
      "sg_uf_PR                                    -0.003351\n",
      "sg_uf_CE                                    -0.004210\n",
      "sg_uf_PE                                    -0.005601\n",
      "sg_uf_ES                                    -0.006261\n",
      "sg_uf_PI                                    -0.006884\n",
      "sit_matricula_TRANCAMENTO                   -0.008617\n",
      "esfera_F                                    -0.008916\n",
      "tp_sexo_M                                   -0.010497\n",
      "tp_servidor_militar_cidadao_M               -0.011528\n",
      "tp_servidor_militar_cidadao_C               -0.013570\n",
      "sg_uf_RN                                    -0.013889\n",
      "nota_aluno_atividade_3                      -0.015119\n",
      "sg_uf_RJ                                    -0.021321\n",
      "atividades_ate_dia_1                        -0.024029\n",
      "dias_atividade_7                            -0.026460\n",
      "atividades_ate_dia_2                        -0.028768\n",
      "sg_pais_sem_pais                            -0.028822\n",
      "nota_aluno_atividade_4                      -0.030813\n",
      "atividades_ate_dia_3                        -0.032496\n",
      "dias_atividade_8                            -0.034778\n",
      "atividades_ate_dia_4                        -0.036490\n",
      "atividades_ate_dia_5                        -0.040424\n",
      "dias_atividade_9                            -0.041410\n",
      "atividades_ate_dia_6                        -0.044108\n",
      "nota_aluno_atividade_5                      -0.044956\n",
      "atividades_ate_dia_7                        -0.048052\n",
      "atividades_ate_dia_8                        -0.050940\n",
      "nota_aluno_atividade_6                      -0.052303\n",
      "atividades_ate_dia_9                        -0.052396\n",
      "dias_atividade_10                           -0.054275\n",
      "dias_atividade_11                           -0.057753\n",
      "sit_matricula_ABANDONO                      -0.060269\n",
      "dias_atividade_12                           -0.064290\n",
      "dias_atividade_13                           -0.067283\n",
      "dias_atividade_16                           -0.068292\n",
      "dias_atividade_18                           -0.068446\n",
      "dias_atividade_17                           -0.068627\n",
      "dias_atividade_15                           -0.068799\n",
      "dias_atividade_14                           -0.069275\n",
      "nota_aluno_atividade_7                      -0.075227\n",
      "nota_aluno_atividade_8                      -0.085981\n",
      "nota_aluno_atividade_9                      -0.092124\n",
      "nota_aluno_atividade_11                     -0.101276\n",
      "nota_aluno_atividade_10                     -0.102125\n",
      "nota_aluno_atividade_18                     -0.104842\n",
      "nota_aluno_atividade_16                     -0.105618\n",
      "nota_aluno_atividade_17                     -0.105706\n",
      "nota_aluno_atividade_15                     -0.106551\n",
      "nota_aluno_atividade_14                     -0.107733\n",
      "nota_aluno_atividade_12                     -0.108360\n",
      "nota_aluno_atividade_13                     -0.109752\n",
      "sit_matricula_APROVADO                      -0.116323\n",
      "Name: sit_matricula_DESISTENTE, dtype: float64\n"
     ]
    }
   ],
   "source": [
    "print(corr_matrix['sit_matricula_DESISTENTE'].sort_values(ascending=False))"
   ]
  },
  {
   "cell_type": "markdown",
   "metadata": {},
   "source": [
    "### Normalizando os dados"
   ]
  },
  {
   "cell_type": "code",
   "execution_count": 16,
   "metadata": {},
   "outputs": [],
   "source": [
    "from sklearn.preprocessing import Normalizer\n",
    "\n",
    "normalizer = Normalizer() \n",
    "\n",
    "dataset_non_scaled = dataset.copy()\n",
    "\n",
    "#dataset[dataset.columns] = normalizer.fit_transform(dataset[dataset.columns])"
   ]
  },
  {
   "cell_type": "code",
   "execution_count": 17,
   "metadata": {},
   "outputs": [
    {
     "data": {
      "text/html": [
       "<div>\n",
       "<style scoped>\n",
       "    .dataframe tbody tr th:only-of-type {\n",
       "        vertical-align: middle;\n",
       "    }\n",
       "\n",
       "    .dataframe tbody tr th {\n",
       "        vertical-align: top;\n",
       "    }\n",
       "\n",
       "    .dataframe thead th {\n",
       "        text-align: right;\n",
       "    }\n",
       "</style>\n",
       "<table border=\"1\" class=\"dataframe\">\n",
       "  <thead>\n",
       "    <tr style=\"text-align: right;\">\n",
       "      <th></th>\n",
       "      <th>nota_aluno_atividade_1</th>\n",
       "      <th>nota_aluno_atividade_2</th>\n",
       "      <th>nota_aluno_atividade_3</th>\n",
       "      <th>nota_aluno_atividade_4</th>\n",
       "      <th>nota_aluno_atividade_5</th>\n",
       "      <th>nota_aluno_atividade_6</th>\n",
       "      <th>nota_aluno_atividade_7</th>\n",
       "      <th>nota_aluno_atividade_8</th>\n",
       "      <th>nota_aluno_atividade_9</th>\n",
       "      <th>nota_aluno_atividade_10</th>\n",
       "      <th>...</th>\n",
       "      <th>tp_servidor_militar_cidadao_SV</th>\n",
       "      <th>tp_poder_execut_legisl_judic_E</th>\n",
       "      <th>tp_poder_execut_legisl_judic_J</th>\n",
       "      <th>tp_poder_execut_legisl_judic_L</th>\n",
       "      <th>tp_poder_execut_legisl_judic_O</th>\n",
       "      <th>tp_poder_execut_legisl_judic_sem_tp_poder</th>\n",
       "      <th>esfera_E</th>\n",
       "      <th>esfera_F</th>\n",
       "      <th>esfera_M</th>\n",
       "      <th>esfera_sem_esfera</th>\n",
       "    </tr>\n",
       "  </thead>\n",
       "  <tbody>\n",
       "    <tr>\n",
       "      <th>count</th>\n",
       "      <td>79614.000000</td>\n",
       "      <td>79614.000000</td>\n",
       "      <td>79614.000000</td>\n",
       "      <td>79614.000000</td>\n",
       "      <td>79614.000000</td>\n",
       "      <td>79614.000000</td>\n",
       "      <td>79614.000000</td>\n",
       "      <td>79614.000000</td>\n",
       "      <td>79614.000000</td>\n",
       "      <td>79614.000000</td>\n",
       "      <td>...</td>\n",
       "      <td>79614.000000</td>\n",
       "      <td>79614.000000</td>\n",
       "      <td>79614.000000</td>\n",
       "      <td>79614.000000</td>\n",
       "      <td>79614.000000</td>\n",
       "      <td>79614.000000</td>\n",
       "      <td>79614.000000</td>\n",
       "      <td>79614.000000</td>\n",
       "      <td>79614.000000</td>\n",
       "      <td>79614.000000</td>\n",
       "    </tr>\n",
       "    <tr>\n",
       "      <th>mean</th>\n",
       "      <td>63.038787</td>\n",
       "      <td>63.467983</td>\n",
       "      <td>58.914575</td>\n",
       "      <td>60.473032</td>\n",
       "      <td>62.469830</td>\n",
       "      <td>61.975757</td>\n",
       "      <td>62.575426</td>\n",
       "      <td>62.346761</td>\n",
       "      <td>62.314020</td>\n",
       "      <td>56.401391</td>\n",
       "      <td>...</td>\n",
       "      <td>0.051285</td>\n",
       "      <td>0.493870</td>\n",
       "      <td>0.034617</td>\n",
       "      <td>0.006871</td>\n",
       "      <td>0.016919</td>\n",
       "      <td>0.447723</td>\n",
       "      <td>0.627302</td>\n",
       "      <td>0.227837</td>\n",
       "      <td>0.042417</td>\n",
       "      <td>0.102444</td>\n",
       "    </tr>\n",
       "    <tr>\n",
       "      <th>std</th>\n",
       "      <td>46.275976</td>\n",
       "      <td>46.658196</td>\n",
       "      <td>44.944650</td>\n",
       "      <td>45.465724</td>\n",
       "      <td>46.317858</td>\n",
       "      <td>46.183168</td>\n",
       "      <td>46.601149</td>\n",
       "      <td>46.690333</td>\n",
       "      <td>46.431924</td>\n",
       "      <td>43.022829</td>\n",
       "      <td>...</td>\n",
       "      <td>0.220580</td>\n",
       "      <td>0.499966</td>\n",
       "      <td>0.182809</td>\n",
       "      <td>0.082605</td>\n",
       "      <td>0.128969</td>\n",
       "      <td>0.497263</td>\n",
       "      <td>0.483526</td>\n",
       "      <td>0.419439</td>\n",
       "      <td>0.201540</td>\n",
       "      <td>0.303234</td>\n",
       "    </tr>\n",
       "    <tr>\n",
       "      <th>min</th>\n",
       "      <td>0.000000</td>\n",
       "      <td>0.000000</td>\n",
       "      <td>0.000000</td>\n",
       "      <td>0.000000</td>\n",
       "      <td>0.000000</td>\n",
       "      <td>0.000000</td>\n",
       "      <td>0.000000</td>\n",
       "      <td>0.000000</td>\n",
       "      <td>0.000000</td>\n",
       "      <td>0.000000</td>\n",
       "      <td>...</td>\n",
       "      <td>0.000000</td>\n",
       "      <td>0.000000</td>\n",
       "      <td>0.000000</td>\n",
       "      <td>0.000000</td>\n",
       "      <td>0.000000</td>\n",
       "      <td>0.000000</td>\n",
       "      <td>0.000000</td>\n",
       "      <td>0.000000</td>\n",
       "      <td>0.000000</td>\n",
       "      <td>0.000000</td>\n",
       "    </tr>\n",
       "    <tr>\n",
       "      <th>25%</th>\n",
       "      <td>0.000000</td>\n",
       "      <td>0.000000</td>\n",
       "      <td>0.000000</td>\n",
       "      <td>0.000000</td>\n",
       "      <td>0.000000</td>\n",
       "      <td>0.000000</td>\n",
       "      <td>0.000000</td>\n",
       "      <td>0.000000</td>\n",
       "      <td>0.000000</td>\n",
       "      <td>0.000000</td>\n",
       "      <td>...</td>\n",
       "      <td>0.000000</td>\n",
       "      <td>0.000000</td>\n",
       "      <td>0.000000</td>\n",
       "      <td>0.000000</td>\n",
       "      <td>0.000000</td>\n",
       "      <td>0.000000</td>\n",
       "      <td>0.000000</td>\n",
       "      <td>0.000000</td>\n",
       "      <td>0.000000</td>\n",
       "      <td>0.000000</td>\n",
       "    </tr>\n",
       "    <tr>\n",
       "      <th>50%</th>\n",
       "      <td>100.000000</td>\n",
       "      <td>100.000000</td>\n",
       "      <td>75.000000</td>\n",
       "      <td>80.000000</td>\n",
       "      <td>100.000000</td>\n",
       "      <td>85.710000</td>\n",
       "      <td>100.000000</td>\n",
       "      <td>100.000000</td>\n",
       "      <td>94.740000</td>\n",
       "      <td>75.000000</td>\n",
       "      <td>...</td>\n",
       "      <td>0.000000</td>\n",
       "      <td>0.000000</td>\n",
       "      <td>0.000000</td>\n",
       "      <td>0.000000</td>\n",
       "      <td>0.000000</td>\n",
       "      <td>0.000000</td>\n",
       "      <td>1.000000</td>\n",
       "      <td>0.000000</td>\n",
       "      <td>0.000000</td>\n",
       "      <td>0.000000</td>\n",
       "    </tr>\n",
       "    <tr>\n",
       "      <th>75%</th>\n",
       "      <td>100.000000</td>\n",
       "      <td>100.000000</td>\n",
       "      <td>100.000000</td>\n",
       "      <td>100.000000</td>\n",
       "      <td>100.000000</td>\n",
       "      <td>100.000000</td>\n",
       "      <td>100.000000</td>\n",
       "      <td>100.000000</td>\n",
       "      <td>100.000000</td>\n",
       "      <td>91.670000</td>\n",
       "      <td>...</td>\n",
       "      <td>0.000000</td>\n",
       "      <td>1.000000</td>\n",
       "      <td>0.000000</td>\n",
       "      <td>0.000000</td>\n",
       "      <td>0.000000</td>\n",
       "      <td>1.000000</td>\n",
       "      <td>1.000000</td>\n",
       "      <td>0.000000</td>\n",
       "      <td>0.000000</td>\n",
       "      <td>0.000000</td>\n",
       "    </tr>\n",
       "    <tr>\n",
       "      <th>max</th>\n",
       "      <td>100.000000</td>\n",
       "      <td>100.000000</td>\n",
       "      <td>100.000000</td>\n",
       "      <td>100.000000</td>\n",
       "      <td>100.000000</td>\n",
       "      <td>100.000000</td>\n",
       "      <td>100.000000</td>\n",
       "      <td>100.000000</td>\n",
       "      <td>100.000000</td>\n",
       "      <td>100.000000</td>\n",
       "      <td>...</td>\n",
       "      <td>1.000000</td>\n",
       "      <td>1.000000</td>\n",
       "      <td>1.000000</td>\n",
       "      <td>1.000000</td>\n",
       "      <td>1.000000</td>\n",
       "      <td>1.000000</td>\n",
       "      <td>1.000000</td>\n",
       "      <td>1.000000</td>\n",
       "      <td>1.000000</td>\n",
       "      <td>1.000000</td>\n",
       "    </tr>\n",
       "  </tbody>\n",
       "</table>\n",
       "<p>8 rows × 137 columns</p>\n",
       "</div>"
      ],
      "text/plain": [
       "       nota_aluno_atividade_1  nota_aluno_atividade_2  nota_aluno_atividade_3  \\\n",
       "count            79614.000000            79614.000000            79614.000000   \n",
       "mean                63.038787               63.467983               58.914575   \n",
       "std                 46.275976               46.658196               44.944650   \n",
       "min                  0.000000                0.000000                0.000000   \n",
       "25%                  0.000000                0.000000                0.000000   \n",
       "50%                100.000000              100.000000               75.000000   \n",
       "75%                100.000000              100.000000              100.000000   \n",
       "max                100.000000              100.000000              100.000000   \n",
       "\n",
       "       nota_aluno_atividade_4  nota_aluno_atividade_5  nota_aluno_atividade_6  \\\n",
       "count            79614.000000            79614.000000            79614.000000   \n",
       "mean                60.473032               62.469830               61.975757   \n",
       "std                 45.465724               46.317858               46.183168   \n",
       "min                  0.000000                0.000000                0.000000   \n",
       "25%                  0.000000                0.000000                0.000000   \n",
       "50%                 80.000000              100.000000               85.710000   \n",
       "75%                100.000000              100.000000              100.000000   \n",
       "max                100.000000              100.000000              100.000000   \n",
       "\n",
       "       nota_aluno_atividade_7  nota_aluno_atividade_8  nota_aluno_atividade_9  \\\n",
       "count            79614.000000            79614.000000            79614.000000   \n",
       "mean                62.575426               62.346761               62.314020   \n",
       "std                 46.601149               46.690333               46.431924   \n",
       "min                  0.000000                0.000000                0.000000   \n",
       "25%                  0.000000                0.000000                0.000000   \n",
       "50%                100.000000              100.000000               94.740000   \n",
       "75%                100.000000              100.000000              100.000000   \n",
       "max                100.000000              100.000000              100.000000   \n",
       "\n",
       "       nota_aluno_atividade_10  ...  tp_servidor_militar_cidadao_SV   \\\n",
       "count             79614.000000  ...                     79614.000000   \n",
       "mean                 56.401391  ...                         0.051285   \n",
       "std                  43.022829  ...                         0.220580   \n",
       "min                   0.000000  ...                         0.000000   \n",
       "25%                   0.000000  ...                         0.000000   \n",
       "50%                  75.000000  ...                         0.000000   \n",
       "75%                  91.670000  ...                         0.000000   \n",
       "max                 100.000000  ...                         1.000000   \n",
       "\n",
       "       tp_poder_execut_legisl_judic_E  tp_poder_execut_legisl_judic_J  \\\n",
       "count                    79614.000000                    79614.000000   \n",
       "mean                         0.493870                        0.034617   \n",
       "std                          0.499966                        0.182809   \n",
       "min                          0.000000                        0.000000   \n",
       "25%                          0.000000                        0.000000   \n",
       "50%                          0.000000                        0.000000   \n",
       "75%                          1.000000                        0.000000   \n",
       "max                          1.000000                        1.000000   \n",
       "\n",
       "       tp_poder_execut_legisl_judic_L  tp_poder_execut_legisl_judic_O  \\\n",
       "count                    79614.000000                    79614.000000   \n",
       "mean                         0.006871                        0.016919   \n",
       "std                          0.082605                        0.128969   \n",
       "min                          0.000000                        0.000000   \n",
       "25%                          0.000000                        0.000000   \n",
       "50%                          0.000000                        0.000000   \n",
       "75%                          0.000000                        0.000000   \n",
       "max                          1.000000                        1.000000   \n",
       "\n",
       "       tp_poder_execut_legisl_judic_sem_tp_poder      esfera_E      esfera_F  \\\n",
       "count                               79614.000000  79614.000000  79614.000000   \n",
       "mean                                    0.447723      0.627302      0.227837   \n",
       "std                                     0.497263      0.483526      0.419439   \n",
       "min                                     0.000000      0.000000      0.000000   \n",
       "25%                                     0.000000      0.000000      0.000000   \n",
       "50%                                     0.000000      1.000000      0.000000   \n",
       "75%                                     1.000000      1.000000      0.000000   \n",
       "max                                     1.000000      1.000000      1.000000   \n",
       "\n",
       "           esfera_M  esfera_sem_esfera  \n",
       "count  79614.000000       79614.000000  \n",
       "mean       0.042417           0.102444  \n",
       "std        0.201540           0.303234  \n",
       "min        0.000000           0.000000  \n",
       "25%        0.000000           0.000000  \n",
       "50%        0.000000           0.000000  \n",
       "75%        0.000000           0.000000  \n",
       "max        1.000000           1.000000  \n",
       "\n",
       "[8 rows x 137 columns]"
      ]
     },
     "execution_count": 17,
     "metadata": {},
     "output_type": "execute_result"
    }
   ],
   "source": [
    "dataset.describe()"
   ]
  },
  {
   "cell_type": "markdown",
   "metadata": {},
   "source": [
    "### Fazendo o encode do sit_matricula"
   ]
  },
  {
   "cell_type": "code",
   "execution_count": 18,
   "metadata": {},
   "outputs": [],
   "source": [
    "df_enc = pd.Categorical(pd.factorize(matricula)[0])\n",
    "ohe_df = pd.DataFrame({\"resultado\": df_enc})\n",
    "dataset = pd.concat([dataset, ohe_df], axis=1)\n",
    "\n",
    "resultados = dataset.filter(like=\"sit_matricula_\")\n",
    "\n",
    "dataset = dataset.drop(resultados, axis=1)"
   ]
  },
  {
   "cell_type": "code",
   "execution_count": 19,
   "metadata": {},
   "outputs": [
    {
     "data": {
      "text/plain": [
       "(79614, 133)"
      ]
     },
     "execution_count": 19,
     "metadata": {},
     "output_type": "execute_result"
    }
   ],
   "source": [
    "dataset.shape"
   ]
  },
  {
   "cell_type": "markdown",
   "metadata": {},
   "source": [
    "## Treinando e avaliando os dados"
   ]
  },
  {
   "cell_type": "code",
   "execution_count": 20,
   "metadata": {},
   "outputs": [
    {
     "data": {
      "text/plain": [
       "0        0\n",
       "1        1\n",
       "2        0\n",
       "3        0\n",
       "4        0\n",
       "        ..\n",
       "79609    0\n",
       "79610    1\n",
       "79611    1\n",
       "79612    4\n",
       "79613    1\n",
       "Name: resultado, Length: 79614, dtype: category\n",
       "Categories (5, int64): [0, 1, 2, 3, 4]"
      ]
     },
     "execution_count": 20,
     "metadata": {},
     "output_type": "execute_result"
    }
   ],
   "source": [
    "dados_filtrados_X = dataset.drop('resultado', axis=1)\n",
    "dados_filtrados_y = dataset['resultado']\n",
    "dados_filtrados_y"
   ]
  },
  {
   "cell_type": "code",
   "execution_count": 21,
   "metadata": {},
   "outputs": [
    {
     "data": {
      "text/plain": [
       "'\\nClassificadores usados em outros artigos:\\n\\nNaive Bayes, => GaussianNB\\nLogisticRegression => LogisticRegression,\\nEnsemble => AdaBoostClassifier,RandomForestClassifier\\nSVM => LinearSVC,\\n\\nTambém utilizados:\\n\\nTree => DecisionTreeClassifier\\n\\n\\nRedes Neurais:\\nMultilayer Perceptron,\\nRBFNetwork,\\nRNN,\\nLSTM\\n'"
      ]
     },
     "execution_count": 21,
     "metadata": {},
     "output_type": "execute_result"
    }
   ],
   "source": [
    "\"\"\"\n",
    "Classificadores usados em outros artigos:\n",
    "\n",
    "Naive Bayes, => GaussianNB\n",
    "LogisticRegression => LogisticRegression,\n",
    "Ensemble => AdaBoostClassifier,RandomForestClassifier\n",
    "SVM => LinearSVC,\n",
    "\n",
    "Também utilizados:\n",
    "\n",
    "Tree => DecisionTreeClassifier\n",
    "\n",
    "\n",
    "Redes Neurais:\n",
    "Multilayer Perceptron,\n",
    "RBFNetwork,\n",
    "RNN,\n",
    "LSTM\n",
    "\"\"\""
   ]
  },
  {
   "cell_type": "code",
   "execution_count": 22,
   "metadata": {},
   "outputs": [],
   "source": [
    "import numpy, time\n",
    "from sklearn.metrics import accuracy_score, confusion_matrix\n",
    "from sklearn.model_selection import GridSearchCV\n",
    "\n",
    "result = ['APROVADO', 'ABANDONO', 'TRANCAMENTO', 'REPROVADO', 'DESISTENTE']\n",
    "\n",
    "def train_and_evaluate(alg, treino_x, teste_x, treino_y, teste_y, show_distribuition = False):\n",
    "    start = time.time()\n",
    "    alg.fit(treino_x, treino_y)\n",
    "    previsoes = alg.predict(teste_x)\n",
    "    stop = time.time()\n",
    "\n",
    "    acuracia = accuracy_score(teste_y, previsoes) * 100\n",
    "    print(\"A acurácia foi %.2f%%\" % acuracia)\n",
    "    print(f\"Tempo de execução:: {stop - start}s\")\n",
    "    \n",
    "    show_confusion_matrix(teste_y, previsoes)\n",
    "    \n",
    "    if show_distribuition:\n",
    "        show_previsions_and_results_distribuition(teste_y, previsoes)\n",
    "\n",
    "def show_previsions_and_results_distribuition(teste_y, previsoes):\n",
    "    fig, ax = plt.subplots()\n",
    "    results = dict(zip(*numpy.unique(teste_y.values, return_counts=True)))\n",
    "    predictions = dict(zip(*numpy.unique(previsoes, return_counts=True))) \n",
    "\n",
    "    labels = results.keys()\n",
    "    print(labels)\n",
    "    x = np.arange(len(labels))\n",
    "    width = 0.35\n",
    "\n",
    "    for key in list(results):\n",
    "        results[result[key]] = results[key] \n",
    "        del results[key] \n",
    "        try:\n",
    "            predictions[result[key]] = predictions[key] \n",
    "            del predictions[key] \n",
    "        except KeyError:\n",
    "            predictions[result[key]] = 0                   \n",
    "\n",
    "    print(results)\n",
    "    print(predictions)\n",
    "    rects1 = ax.bar(x - width/2, results.values(), width, label='Resultados')\n",
    "    rects2 = ax.bar(x + width/2, predictions.values(), width, label='Previsões')\n",
    "    ax.set_ylabel('Alunos')\n",
    "    ax.set_title('Alunos por resultado')\n",
    "    ax.set_xticks(x)\n",
    "    ax.set_xticklabels(labels)\n",
    "    ax.set_ymargin(0.5)\n",
    "    ax.legend()\n",
    "    autolabel(rects1, ax)\n",
    "    autolabel(rects2, ax)\n",
    "\n",
    "    fig.tight_layout()\n",
    "\n",
    "    plt.show()\n",
    "\n",
    "def autolabel(rects, ax):\n",
    "    \"\"\"Attach a text label above each bar in *rects*, displaying its height.\"\"\"\n",
    "    for rect in rects:\n",
    "        height = rect.get_height()\n",
    "        ax.annotate('{}'.format(height),\n",
    "                    xy=(rect.get_x() + rect.get_width() / 2, height),\n",
    "                    xytext=(0, 3),  # 3 points vertical offset\n",
    "                    textcoords=\"offset points\",\n",
    "                    ha='center', va='bottom')\n",
    "        \n",
    "def show_confusion_matrix(teste_y, previsoes):\n",
    "    conf_mx = confusion_matrix(teste_y, previsoes)\n",
    "    \n",
    "    \n",
    "    row_sums = conf_mx.sum(axis=1, keepdims=True)\n",
    "    norm_conf_mx = conf_mx / row_sums\n",
    "\n",
    "    # Preenchemos as diagonais com 0's para manter apenas os erros e plotar o resultado:\n",
    "    np.fill_diagonal(norm_conf_mx, 0)\n",
    "    \n",
    "    # Onde as linhas representam as classes reais, e as colunas as classes previstas\n",
    "    plt.matshow(norm_conf_mx, cmap=plt.cm.gray)\n",
    "    xticks = [i for i in range(0, conf_mx.shape[1])]\n",
    "    yticks = [i for i in range(0, conf_mx.shape[0])]\n",
    "    plt.xticks(xticks, result[0:conf_mx.shape[1]], rotation=90)\n",
    "    plt.yticks(yticks, result[0:conf_mx.shape[0]])\n",
    "    plt.show()\n",
    "    \n",
    "def calculate_with_grid_search(alg, param_grid, treino_x, teste_x, treino_y, teste_y):\n",
    "    if DEBUG is False:\n",
    "        grid_search = GridSearchCV(alg, param_grid = param_grid, cv=5, scoring=\"accuracy\")\n",
    "\n",
    "        grid_search.fit(treino_x, treino_y)\n",
    "\n",
    "        # E obteremos a melhore combinação de parâmetros:\n",
    "        best_params = grid_search.best_params_\n",
    "\n",
    "        cvres = grid_search.cv_results_\n",
    "        for score, params in zip(cvres['mean_test_score'], cvres['params']):\n",
    "            score *= 100\n",
    "            print(\"Precisão: \", score, \"Parametros:\", params)\n",
    "        "
   ]
  },
  {
   "cell_type": "markdown",
   "metadata": {},
   "source": [
    "### LinearSVC"
   ]
  },
  {
   "cell_type": "code",
   "execution_count": 23,
   "metadata": {
    "scrolled": false
   },
   "outputs": [
    {
     "name": "stdout",
     "output_type": "stream",
     "text": [
      "A acurácia foi 98.86%\n",
      "Tempo de execução:: 9.55127239227295s\n"
     ]
    },
    {
     "name": "stderr",
     "output_type": "stream",
     "text": [
      "/home/eliasb/Documentos/evasao_escolar/venv/lib/python3.9/site-packages/sklearn/svm/_base.py:985: ConvergenceWarning: Liblinear failed to converge, increase the number of iterations.\n",
      "  warnings.warn(\"Liblinear failed to converge, increase \"\n"
     ]
    },
    {
     "data": {
      "image/png": "[encoded data removed]",
      "text/plain": [
       "<Figure size 288x288 with 1 Axes>"
      ]
     },
     "metadata": {
      "needs_background": "light"
     },
     "output_type": "display_data"
    },
    {
     "name": "stdout",
     "output_type": "stream",
     "text": [
      "dict_keys([0, 1, 2, 3, 4])\n",
      "{'APROVADO': 10337, 'ABANDONO': 5293, 'TRANCAMENTO': 169, 'REPROVADO': 2, 'DESISTENTE': 122}\n",
      "{'APROVADO': 10344, 'ABANDONO': 5434, 'TRANCAMENTO': 2, 'REPROVADO': 4, 'DESISTENTE': 139}\n"
     ]
    },
    {
     "data": {
      "image/png": "[encoded data removed]",
      "text/plain": [
       "<Figure size 432x288 with 1 Axes>"
      ]
     },
     "metadata": {
      "needs_background": "light"
     },
     "output_type": "display_data"
    }
   ],
   "source": [
    "from sklearn.svm import LinearSVC\n",
    "\n",
    "from sklearn.model_selection import train_test_split\n",
    "\n",
    "treino_x, teste_x, treino_y, teste_y = train_test_split(dados_filtrados_X, dados_filtrados_y, test_size=0.2)\n",
    "\n",
    "\n",
    "lin_reg = LinearSVC(dual=False, random_state=42)\n",
    "\n",
    "train_and_evaluate(lin_reg, treino_x, teste_x, treino_y, teste_y, show_distribuition = True)"
   ]
  },
  {
   "cell_type": "markdown",
   "metadata": {},
   "source": [
    "### GaussianNB"
   ]
  },
  {
   "cell_type": "code",
   "execution_count": 24,
   "metadata": {},
   "outputs": [
    {
     "name": "stdout",
     "output_type": "stream",
     "text": [
      "A acurácia foi 72.72%\n",
      "Tempo de execução:: 0.14366984367370605s\n"
     ]
    },
    {
     "data": {
      "image/png": "[encoded data removed]",
      "text/plain": [
       "<Figure size 288x288 with 1 Axes>"
      ]
     },
     "metadata": {
      "needs_background": "light"
     },
     "output_type": "display_data"
    }
   ],
   "source": [
    "from sklearn.naive_bayes import GaussianNB\n",
    "\n",
    "treino_x, teste_x, treino_y, teste_y = train_test_split(dados_filtrados_X, dados_filtrados_y, test_size=0.2)\n",
    "\n",
    "\n",
    "gaussian_nb = GaussianNB()\n",
    "train_and_evaluate(gaussian_nb, treino_x, teste_x, treino_y, teste_y)"
   ]
  },
  {
   "cell_type": "markdown",
   "metadata": {},
   "source": [
    "### RandomForestClassifier"
   ]
  },
  {
   "cell_type": "code",
   "execution_count": 25,
   "metadata": {},
   "outputs": [
    {
     "name": "stdout",
     "output_type": "stream",
     "text": [
      "A acurácia foi 98.81%\n",
      "Tempo de execução:: 4.1099464893341064s\n"
     ]
    },
    {
     "data": {
      "image/png": "[encoded data removed]",
      "text/plain": [
       "<Figure size 288x288 with 1 Axes>"
      ]
     },
     "metadata": {
      "needs_background": "light"
     },
     "output_type": "display_data"
    },
    {
     "name": "stdout",
     "output_type": "stream",
     "text": [
      "dict_keys([0, 1, 2, 3, 4])\n",
      "{'APROVADO': 10375, 'ABANDONO': 5264, 'TRANCAMENTO': 169, 'REPROVADO': 1, 'DESISTENTE': 114}\n",
      "{'APROVADO': 10387, 'ABANDONO': 5384, 'TRANCAMENTO': 23, 'REPROVADO': 0, 'DESISTENTE': 129}\n"
     ]
    },
    {
     "data": {
      "image/png": "[encoded data removed]",
      "text/plain": [
       "<Figure size 432x288 with 1 Axes>"
      ]
     },
     "metadata": {
      "needs_background": "light"
     },
     "output_type": "display_data"
    }
   ],
   "source": [
    "from sklearn.ensemble import RandomForestClassifier\n",
    "\n",
    "treino_x, teste_x, treino_y, teste_y = train_test_split(dados_filtrados_X, dados_filtrados_y, test_size=0.2)\n",
    "\n",
    "\n",
    "random_forest = RandomForestClassifier(random_state=42)\n",
    "train_and_evaluate(random_forest, treino_x, teste_x, treino_y, teste_y, show_distribuition = True)"
   ]
  },
  {
   "cell_type": "markdown",
   "metadata": {},
   "source": [
    "### AdaBoostClassifier"
   ]
  },
  {
   "cell_type": "code",
   "execution_count": 26,
   "metadata": {},
   "outputs": [
    {
     "name": "stdout",
     "output_type": "stream",
     "text": [
      "A acurácia foi 98.79%\n",
      "Tempo de execução:: 5.412421941757202s\n"
     ]
    },
    {
     "data": {
      "image/png": "[encoded data removed]",
      "text/plain": [
       "<Figure size 288x288 with 1 Axes>"
      ]
     },
     "metadata": {
      "needs_background": "light"
     },
     "output_type": "display_data"
    },
    {
     "name": "stdout",
     "output_type": "stream",
     "text": [
      "dict_keys([0, 1, 2, 3, 4])\n",
      "{'APROVADO': 10375, 'ABANDONO': 5280, 'TRANCAMENTO': 159, 'REPROVADO': 1, 'DESISTENTE': 108}\n",
      "{'APROVADO': 10382, 'ABANDONO': 5399, 'TRANCAMENTO': 55, 'REPROVADO': 0, 'DESISTENTE': 87}\n"
     ]
    },
    {
     "data": {
      "image/png": "[encoded data removed]",
      "text/plain": [
       "<Figure size 432x288 with 1 Axes>"
      ]
     },
     "metadata": {
      "needs_background": "light"
     },
     "output_type": "display_data"
    }
   ],
   "source": [
    "from sklearn.ensemble import AdaBoostClassifier\n",
    "\n",
    "treino_x, teste_x, treino_y, teste_y = train_test_split(dados_filtrados_X, dados_filtrados_y, test_size=0.2)\n",
    "\n",
    "\n",
    "adaboost = AdaBoostClassifier(random_state=42)\n",
    "\"\"\"\n",
    "Obs: a acurácia aqui variou bastante\n",
    "\"\"\"\n",
    "\n",
    "train_and_evaluate(adaboost, treino_x, teste_x, treino_y, teste_y, show_distribuition = True)"
   ]
  },
  {
   "cell_type": "markdown",
   "metadata": {},
   "source": [
    "### LogisticRegression"
   ]
  },
  {
   "cell_type": "code",
   "execution_count": 27,
   "metadata": {
    "scrolled": false
   },
   "outputs": [
    {
     "name": "stdout",
     "output_type": "stream",
     "text": [
      "A acurácia foi 98.88%\n",
      "Tempo de execução:: 6.603531360626221s\n"
     ]
    },
    {
     "name": "stderr",
     "output_type": "stream",
     "text": [
      "/home/eliasb/Documentos/evasao_escolar/venv/lib/python3.9/site-packages/sklearn/linear_model/_logistic.py:763: ConvergenceWarning: lbfgs failed to converge (status=1):\n",
      "STOP: TOTAL NO. of ITERATIONS REACHED LIMIT.\n",
      "\n",
      "Increase the number of iterations (max_iter) or scale the data as shown in:\n",
      "    https://scikit-learn.org/stable/modules/preprocessing.html\n",
      "Please also refer to the documentation for alternative solver options:\n",
      "    https://scikit-learn.org/stable/modules/linear_model.html#logistic-regression\n",
      "  n_iter_i = _check_optimize_result(\n"
     ]
    },
    {
     "data": {
      "image/png": "[encoded data removed]",
      "text/plain": [
       "<Figure size 288x288 with 1 Axes>"
      ]
     },
     "metadata": {
      "needs_background": "light"
     },
     "output_type": "display_data"
    },
    {
     "name": "stdout",
     "output_type": "stream",
     "text": [
      "dict_keys([0, 1, 2, 3, 4])\n",
      "{'APROVADO': 10389, 'ABANDONO': 5253, 'TRANCAMENTO': 169, 'REPROVADO': 1, 'DESISTENTE': 111}\n",
      "{'APROVADO': 10393, 'ABANDONO': 5386, 'TRANCAMENTO': 15, 'REPROVADO': 1, 'DESISTENTE': 128}\n"
     ]
    },
    {
     "data": {
      "image/png": "[encoded data removed]",
      "text/plain": [
       "<Figure size 432x288 with 1 Axes>"
      ]
     },
     "metadata": {
      "needs_background": "light"
     },
     "output_type": "display_data"
    }
   ],
   "source": [
    "from sklearn.linear_model import LogisticRegression\n",
    "\n",
    "treino_x, teste_x, treino_y, teste_y = train_test_split(dados_filtrados_X, dados_filtrados_y, test_size=0.2)\n",
    "\n",
    "\n",
    "log_regression = LogisticRegression(random_state=42)\n",
    "\n",
    "train_and_evaluate(log_regression, treino_x, teste_x, treino_y, teste_y, show_distribuition = True)"
   ]
  },
  {
   "cell_type": "markdown",
   "metadata": {},
   "source": [
    "### DecisionTreeClassifier"
   ]
  },
  {
   "cell_type": "code",
   "execution_count": 28,
   "metadata": {},
   "outputs": [
    {
     "name": "stdout",
     "output_type": "stream",
     "text": [
      "A acurácia foi 98.72%\n",
      "Tempo de execução:: 0.4402618408203125s\n"
     ]
    },
    {
     "data": {
      "image/png": "[encoded data removed]",
      "text/plain": [
       "<Figure size 288x288 with 1 Axes>"
      ]
     },
     "metadata": {
      "needs_background": "light"
     },
     "output_type": "display_data"
    },
    {
     "name": "stdout",
     "output_type": "stream",
     "text": [
      "dict_keys([0, 1, 2, 3, 4])\n",
      "{'APROVADO': 10306, 'ABANDONO': 5318, 'TRANCAMENTO': 171, 'REPROVADO': 1, 'DESISTENTE': 127}\n",
      "{'APROVADO': 10301, 'ABANDONO': 5445, 'TRANCAMENTO': 44, 'REPROVADO': 2, 'DESISTENTE': 131}\n"
     ]
    },
    {
     "data": {
      "image/png": "[encoded data removed]",
      "text/plain": [
       "<Figure size 432x288 with 1 Axes>"
      ]
     },
     "metadata": {
      "needs_background": "light"
     },
     "output_type": "display_data"
    }
   ],
   "source": [
    "from sklearn.tree import DecisionTreeClassifier\n",
    "\n",
    "treino_x, teste_x, treino_y, teste_y = train_test_split(dados_filtrados_X, dados_filtrados_y, test_size=0.2)\n",
    "\n",
    "\n",
    "dec_tree = DecisionTreeClassifier(random_state=42)\n",
    "train_and_evaluate(dec_tree, treino_x, teste_x, treino_y, teste_y, show_distribuition = True)"
   ]
  },
  {
   "cell_type": "markdown",
   "metadata": {},
   "source": [
    "## Aplicando num subset"
   ]
  },
  {
   "cell_type": "markdown",
   "metadata": {},
   "source": [
    "### Tratando os dados para obter a média das atividades de acordo com o número realizado até n dias"
   ]
  },
  {
   "cell_type": "code",
   "execution_count": 29,
   "metadata": {
    "scrolled": true
   },
   "outputs": [],
   "source": [
    "\"\"\"\n",
    "Realizar todo o procedimento com um conjunto menor de dados (ex.: 5 dias); OK\n",
    " -> Fazer a média das n atividades que ela fez no período OK\n",
    " -> Levar em conta quantidade de atividades realizadas e média de notas; OK\n",
    " \n",
    "Ler mais artigos sobre evasão escolar buscando informações e ideias de modelos;\n",
    "\n",
    "\"\"\"\n",
    "\n",
    "\n",
    "notas = dataset_non_scaled.filter(like=\"nota_aluno_atividade\")\n",
    "dias = dataset_non_scaled.filter(like=\"dias_atividade\")\n",
    "\n",
    "uf  = dataset.filter(like=\"sg_uf_\")\n",
    "sexo = dataset.filter(like=\"tp_sexo\")\n",
    "pais = dataset.filter(like=\"sg_pais_\")\n",
    "poder_servidor = dataset.filter(like=\"tp_\")\n",
    "esfera = dataset.filter(like='esfera_')\n",
    "\n",
    "subset = dataset_non_scaled[[*list(notas), *list(dias)]]\n",
    "subset = subset.copy()\n",
    "\n",
    "for index, column in enumerate(subset):\n",
    "    if 'nota_aluno_atividade' in column:\n",
    "        n = int(column.replace('nota_aluno_atividade_',\"\"))\n",
    "        truty = (subset[f\"dias_atividade_{n}\"] <= SUBSET_DIAS) & (subset[f\"dias_atividade_{n}\"] != -1)\n",
    "        subset[column] = subset[truty & subset[column]]"
   ]
  },
  {
   "cell_type": "markdown",
   "metadata": {},
   "source": [
    "### Inserindo as médias e número de atividades feitas até dia n"
   ]
  },
  {
   "cell_type": "code",
   "execution_count": 30,
   "metadata": {},
   "outputs": [],
   "source": [
    "subset = subset.drop(dias, axis=1).fillna(0)\n",
    "notas = subset.filter(like=\"nota_aluno_atividade_\")\n",
    "subset['medias'] = notas.sum(axis=1)\n",
    "\n",
    "subset['medias'] = (subset['medias']/dataset_non_scaled[f\"atividades_ate_dia_{SUBSET_DIAS}\"]).fillna(0)\n",
    "subset[f'atividades_ate_dia_{SUBSET_DIAS}'] = dataset_non_scaled[f\"atividades_ate_dia_{SUBSET_DIAS}\"]\n",
    "subset = subset.drop(notas, axis=1)\n",
    "\n",
    "subset[subset.columns] = normalizer.fit_transform(subset[subset.columns])\n"
   ]
  },
  {
   "cell_type": "code",
   "execution_count": 31,
   "metadata": {},
   "outputs": [
    {
     "data": {
      "text/html": [
       "<div>\n",
       "<style scoped>\n",
       "    .dataframe tbody tr th:only-of-type {\n",
       "        vertical-align: middle;\n",
       "    }\n",
       "\n",
       "    .dataframe tbody tr th {\n",
       "        vertical-align: top;\n",
       "    }\n",
       "\n",
       "    .dataframe thead th {\n",
       "        text-align: right;\n",
       "    }\n",
       "</style>\n",
       "<table border=\"1\" class=\"dataframe\">\n",
       "  <thead>\n",
       "    <tr style=\"text-align: right;\">\n",
       "      <th></th>\n",
       "      <th>medias</th>\n",
       "      <th>atividades_ate_dia_9</th>\n",
       "    </tr>\n",
       "  </thead>\n",
       "  <tbody>\n",
       "    <tr>\n",
       "      <th>0</th>\n",
       "      <td>0.995974</td>\n",
       "      <td>0.089638</td>\n",
       "    </tr>\n",
       "    <tr>\n",
       "      <th>1</th>\n",
       "      <td>0.000000</td>\n",
       "      <td>0.000000</td>\n",
       "    </tr>\n",
       "    <tr>\n",
       "      <th>2</th>\n",
       "      <td>0.000000</td>\n",
       "      <td>1.000000</td>\n",
       "    </tr>\n",
       "    <tr>\n",
       "      <th>3</th>\n",
       "      <td>0.975610</td>\n",
       "      <td>0.219512</td>\n",
       "    </tr>\n",
       "    <tr>\n",
       "      <th>4</th>\n",
       "      <td>0.982318</td>\n",
       "      <td>0.187218</td>\n",
       "    </tr>\n",
       "    <tr>\n",
       "      <th>...</th>\n",
       "      <td>...</td>\n",
       "      <td>...</td>\n",
       "    </tr>\n",
       "    <tr>\n",
       "      <th>79609</th>\n",
       "      <td>0.984183</td>\n",
       "      <td>0.177153</td>\n",
       "    </tr>\n",
       "    <tr>\n",
       "      <th>79610</th>\n",
       "      <td>0.000000</td>\n",
       "      <td>0.000000</td>\n",
       "    </tr>\n",
       "    <tr>\n",
       "      <th>79611</th>\n",
       "      <td>0.000000</td>\n",
       "      <td>0.000000</td>\n",
       "    </tr>\n",
       "    <tr>\n",
       "      <th>79612</th>\n",
       "      <td>0.000000</td>\n",
       "      <td>0.000000</td>\n",
       "    </tr>\n",
       "    <tr>\n",
       "      <th>79613</th>\n",
       "      <td>0.000000</td>\n",
       "      <td>0.000000</td>\n",
       "    </tr>\n",
       "  </tbody>\n",
       "</table>\n",
       "<p>79614 rows × 2 columns</p>\n",
       "</div>"
      ],
      "text/plain": [
       "         medias  atividades_ate_dia_9\n",
       "0      0.995974              0.089638\n",
       "1      0.000000              0.000000\n",
       "2      0.000000              1.000000\n",
       "3      0.975610              0.219512\n",
       "4      0.982318              0.187218\n",
       "...         ...                   ...\n",
       "79609  0.984183              0.177153\n",
       "79610  0.000000              0.000000\n",
       "79611  0.000000              0.000000\n",
       "79612  0.000000              0.000000\n",
       "79613  0.000000              0.000000\n",
       "\n",
       "[79614 rows x 2 columns]"
      ]
     },
     "execution_count": 31,
     "metadata": {},
     "output_type": "execute_result"
    }
   ],
   "source": [
    "subset"
   ]
  },
  {
   "cell_type": "markdown",
   "metadata": {},
   "source": [
    "### Aplicando o subset em algoritmos de ML"
   ]
  },
  {
   "cell_type": "markdown",
   "metadata": {},
   "source": [
    "#### LinearSVC"
   ]
  },
  {
   "cell_type": "code",
   "execution_count": 32,
   "metadata": {
    "scrolled": false
   },
   "outputs": [
    {
     "name": "stdout",
     "output_type": "stream",
     "text": [
      "A acurácia foi 91.14%\n",
      "Tempo de execução:: 0.13071775436401367s\n"
     ]
    },
    {
     "data": {
      "image/png": "[encoded data removed]",
      "text/plain": [
       "<Figure size 288x288 with 1 Axes>"
      ]
     },
     "metadata": {
      "needs_background": "light"
     },
     "output_type": "display_data"
    },
    {
     "name": "stdout",
     "output_type": "stream",
     "text": [
      "dict_keys([0, 1, 2, 3, 4])\n",
      "{'APROVADO': 10314, 'ABANDONO': 5340, 'TRANCAMENTO': 158, 'REPROVADO': 1, 'DESISTENTE': 110}\n",
      "{'APROVADO': 9304, 'ABANDONO': 6619, 'TRANCAMENTO': 0, 'REPROVADO': 0, 'DESISTENTE': 0}\n"
     ]
    },
    {
     "data": {
      "image/png": "[encoded data removed]",
      "text/plain": [
       "<Figure size 432x288 with 1 Axes>"
      ]
     },
     "metadata": {
      "needs_background": "light"
     },
     "output_type": "display_data"
    }
   ],
   "source": [
    "from sklearn.svm import LinearSVC\n",
    "from sklearn.metrics import accuracy_score\n",
    "from sklearn.model_selection import train_test_split\n",
    "\n",
    "\n",
    "treino_x, teste_x, treino_y, teste_y = train_test_split(subset, dados_filtrados_y, test_size=0.2)\n",
    "\n",
    "\n",
    "lin_reg = LinearSVC(dual=False, random_state=42)\n",
    "train_and_evaluate(lin_reg, treino_x, teste_x, treino_y, teste_y, show_distribuition = True)\n",
    "\n",
    "lin_reg_gs = LinearSVC()\n",
    "\n",
    "param_grid = [\n",
    "    {'loss': ['hinge'], 'penalty':  ['l2'], 'max_iter': [1000, 10000]},\n",
    "    {'loss': ['squared_hinge'], 'dual': [False], 'penalty':  ['l1', 'l2'], 'max_iter': [1000, 10000]}\n",
    "\n",
    "]\n",
    "\n",
    "#calculate_with_grid_search(lin_reg_gs, param_grid, treino_x, teste_x, treino_y, teste_y)"
   ]
  },
  {
   "cell_type": "markdown",
   "metadata": {},
   "source": [
    "#### GaussianNB"
   ]
  },
  {
   "cell_type": "code",
   "execution_count": 33,
   "metadata": {},
   "outputs": [
    {
     "name": "stdout",
     "output_type": "stream",
     "text": [
      "A acurácia foi 89.68%\n",
      "Tempo de execução:: 0.011204719543457031s\n"
     ]
    },
    {
     "data": {
      "image/png": "[encoded data removed]",
      "text/plain": [
       "<Figure size 288x288 with 1 Axes>"
      ]
     },
     "metadata": {
      "needs_background": "light"
     },
     "output_type": "display_data"
    },
    {
     "data": {
      "text/plain": [
       "'\\nOs únicos hiperparâmetros alteráveis aqui sao priors e var_smoothing, sendo o primeiro o tamanho de n classes e o \\nsegundo já tendo um valor padrão (1e-9). Nesse cenário em específico não serão feitas alterações\\n'"
      ]
     },
     "execution_count": 33,
     "metadata": {},
     "output_type": "execute_result"
    }
   ],
   "source": [
    "from sklearn.naive_bayes import GaussianNB\n",
    "\n",
    "treino_x, teste_x, treino_y, teste_y = train_test_split(subset, dados_filtrados_y, test_size=0.2)\n",
    "\n",
    "\n",
    "gaussian_nb = GaussianNB()\n",
    "train_and_evaluate(gaussian_nb, treino_x, teste_x, treino_y, teste_y)\n",
    "\n",
    "\"\"\"\n",
    "Os únicos hiperparâmetros alteráveis aqui sao priors e var_smoothing, sendo o primeiro o tamanho de n classes e o \n",
    "segundo já tendo um valor padrão (1e-9). Nesse cenário em específico não serão feitas alterações\n",
    "\"\"\""
   ]
  },
  {
   "cell_type": "markdown",
   "metadata": {},
   "source": [
    "#### RandomForestClassifier"
   ]
  },
  {
   "cell_type": "code",
   "execution_count": 34,
   "metadata": {
    "scrolled": false
   },
   "outputs": [
    {
     "name": "stdout",
     "output_type": "stream",
     "text": [
      "A acurácia foi 90.88%\n",
      "Tempo de execução:: 1.2060341835021973s\n"
     ]
    },
    {
     "data": {
      "image/png": "[encoded data removed]",
      "text/plain": [
       "<Figure size 288x288 with 1 Axes>"
      ]
     },
     "metadata": {
      "needs_background": "light"
     },
     "output_type": "display_data"
    },
    {
     "name": "stdout",
     "output_type": "stream",
     "text": [
      "dict_keys([0, 1, 2, 3, 4])\n",
      "{'APROVADO': 10264, 'ABANDONO': 5382, 'TRANCAMENTO': 166, 'REPROVADO': 1, 'DESISTENTE': 110}\n",
      "{'APROVADO': 9207, 'ABANDONO': 6716, 'TRANCAMENTO': 0, 'REPROVADO': 0, 'DESISTENTE': 0}\n"
     ]
    },
    {
     "data": {
      "image/png": "[encoded data removed]",
      "text/plain": [
       "<Figure size 432x288 with 1 Axes>"
      ]
     },
     "metadata": {
      "needs_background": "light"
     },
     "output_type": "display_data"
    }
   ],
   "source": [
    "from sklearn.ensemble import RandomForestClassifier\n",
    "\n",
    "treino_x, teste_x, treino_y, teste_y = train_test_split(subset, dados_filtrados_y, test_size=0.2)\n",
    "\n",
    "\n",
    "random_forest = RandomForestClassifier(random_state=42)\n",
    "train_and_evaluate(random_forest, treino_x, teste_x, treino_y, teste_y, show_distribuition = True)\n",
    "\n",
    "param_grid = [\n",
    "    {'bootstrap': [False], 'n_estimators': [10, 30, 100, 300], 'n_jobs':[-1]},\n",
    "    {'n_estimators': [10, 30, 100, 300], 'n_jobs':[-1]}\n",
    "]\n",
    "\n",
    "\n",
    "random_forest_gs = RandomForestClassifier()\n",
    "\n",
    "\n",
    "#calculate_with_grid_search(random_forest_gs, param_grid, treino_x, teste_x, treino_y, teste_y)"
   ]
  },
  {
   "cell_type": "markdown",
   "metadata": {},
   "source": [
    "#### AdaBoostClassifier"
   ]
  },
  {
   "cell_type": "code",
   "execution_count": 35,
   "metadata": {},
   "outputs": [
    {
     "name": "stdout",
     "output_type": "stream",
     "text": [
      "A acurácia foi 90.85%\n",
      "Tempo de execução:: 0.9357128143310547s\n"
     ]
    },
    {
     "data": {
      "image/png": "[encoded data removed]",
      "text/plain": [
       "<Figure size 288x288 with 1 Axes>"
      ]
     },
     "metadata": {
      "needs_background": "light"
     },
     "output_type": "display_data"
    },
    {
     "name": "stdout",
     "output_type": "stream",
     "text": [
      "dict_keys([0, 1, 2, 3, 4])\n",
      "{'APROVADO': 10400, 'ABANDONO': 5239, 'TRANCAMENTO': 166, 'REPROVADO': 1, 'DESISTENTE': 117}\n",
      "{'APROVADO': 9351, 'ABANDONO': 6572, 'TRANCAMENTO': 0, 'REPROVADO': 0, 'DESISTENTE': 0}\n"
     ]
    },
    {
     "data": {
      "image/png": "[encoded data removed]",
      "text/plain": [
       "<Figure size 432x288 with 1 Axes>"
      ]
     },
     "metadata": {
      "needs_background": "light"
     },
     "output_type": "display_data"
    }
   ],
   "source": [
    "from sklearn.ensemble import AdaBoostClassifier\n",
    "\n",
    "treino_x, teste_x, treino_y, teste_y = train_test_split(subset, dados_filtrados_y, test_size=0.2)\n",
    "\n",
    "\n",
    "adaboost = AdaBoostClassifier(random_state=42)\n",
    "train_and_evaluate(adaboost, treino_x, teste_x, treino_y, teste_y, show_distribuition = True)\n",
    "\n",
    "param_grid = [\n",
    "    {'learning_rate': [0.1, 0.3, 1, 3], 'n_estimators': [30, 10, 100], 'algorithm': ['SAMME'],},\n",
    "    {'learning_rate': [0.1, 0.3, 1, 3], 'n_estimators': [10, 30, 100]} # Com o Samme.r, padrão\n",
    "]\n",
    "\n",
    "\n",
    "adaboost_cs = AdaBoostClassifier()\n",
    "\n",
    "\n",
    "#calculate_with_grid_search(adaboost_cs, param_grid, treino_x, teste_x, treino_y, teste_y)"
   ]
  },
  {
   "cell_type": "markdown",
   "metadata": {},
   "source": [
    "#### LogisticRegression"
   ]
  },
  {
   "cell_type": "code",
   "execution_count": 36,
   "metadata": {
    "scrolled": false
   },
   "outputs": [
    {
     "name": "stdout",
     "output_type": "stream",
     "text": [
      "A acurácia foi 90.99%\n",
      "Tempo de execução:: 3.6763553619384766s\n"
     ]
    },
    {
     "name": "stderr",
     "output_type": "stream",
     "text": [
      "/home/eliasb/Documentos/evasao_escolar/venv/lib/python3.9/site-packages/sklearn/linear_model/_logistic.py:763: ConvergenceWarning: lbfgs failed to converge (status=1):\n",
      "STOP: TOTAL NO. of ITERATIONS REACHED LIMIT.\n",
      "\n",
      "Increase the number of iterations (max_iter) or scale the data as shown in:\n",
      "    https://scikit-learn.org/stable/modules/preprocessing.html\n",
      "Please also refer to the documentation for alternative solver options:\n",
      "    https://scikit-learn.org/stable/modules/linear_model.html#logistic-regression\n",
      "  n_iter_i = _check_optimize_result(\n"
     ]
    },
    {
     "data": {
      "image/png": "[encoded data removed]",
      "text/plain": [
       "<Figure size 288x288 with 1 Axes>"
      ]
     },
     "metadata": {
      "needs_background": "light"
     },
     "output_type": "display_data"
    },
    {
     "name": "stdout",
     "output_type": "stream",
     "text": [
      "dict_keys([0, 1, 2, 3, 4])\n",
      "{'APROVADO': 10433, 'ABANDONO': 5226, 'TRANCAMENTO': 154, 'REPROVADO': 1, 'DESISTENTE': 109}\n",
      "{'APROVADO': 9382, 'ABANDONO': 6541, 'TRANCAMENTO': 0, 'REPROVADO': 0, 'DESISTENTE': 0}\n"
     ]
    },
    {
     "data": {
      "image/png": "[encoded data removed]",
      "text/plain": [
       "<Figure size 432x288 with 1 Axes>"
      ]
     },
     "metadata": {
      "needs_background": "light"
     },
     "output_type": "display_data"
    }
   ],
   "source": [
    "from sklearn.linear_model import LogisticRegression\n",
    "\n",
    "treino_x, teste_x, treino_y, teste_y = train_test_split(subset, dados_filtrados_y, test_size=0.2)\n",
    "\n",
    "\n",
    "log_regression = LogisticRegression(random_state=42)\n",
    "train_and_evaluate(log_regression, treino_x, teste_x, treino_y, teste_y, show_distribuition = True)\n",
    "\n",
    "param_grid = [\n",
    "    {'C': [0.1, 1, 3], 'fit_intercept': [False, True], 'max_iter': [1000, 10000] },\n",
    "    {'C': [0.1, 1, 3], 'solver': ['newton-cg'], 'max_iter': [1000, 10000]}\n",
    "]\n",
    "\n",
    "\n",
    "log_regression_cs = LogisticRegression()\n",
    "\n",
    "\n",
    "#calculate_with_grid_search(log_regression_cs, param_grid, treino_x, teste_x, treino_y, teste_y)"
   ]
  },
  {
   "cell_type": "markdown",
   "metadata": {},
   "source": [
    "#### DecisionTreeClassifier"
   ]
  },
  {
   "cell_type": "code",
   "execution_count": 37,
   "metadata": {
    "scrolled": false
   },
   "outputs": [
    {
     "name": "stdout",
     "output_type": "stream",
     "text": [
      "A acurácia foi 91.36%\n",
      "Tempo de execução:: 0.017781734466552734s\n"
     ]
    },
    {
     "data": {
      "image/png": "[encoded data removed]",
      "text/plain": [
       "<Figure size 288x288 with 1 Axes>"
      ]
     },
     "metadata": {
      "needs_background": "light"
     },
     "output_type": "display_data"
    },
    {
     "name": "stdout",
     "output_type": "stream",
     "text": [
      "dict_keys([0, 1, 2, 3, 4])\n",
      "{'APROVADO': 10316, 'ABANDONO': 5333, 'TRANCAMENTO': 166, 'REPROVADO': 2, 'DESISTENTE': 106}\n",
      "{'APROVADO': 9331, 'ABANDONO': 6592, 'TRANCAMENTO': 0, 'REPROVADO': 0, 'DESISTENTE': 0}\n"
     ]
    },
    {
     "data": {
      "image/png": "[encoded data removed]",
      "text/plain": [
       "<Figure size 432x288 with 1 Axes>"
      ]
     },
     "metadata": {
      "needs_background": "light"
     },
     "output_type": "display_data"
    }
   ],
   "source": [
    "from sklearn.tree import DecisionTreeClassifier\n",
    "\n",
    "treino_x, teste_x, treino_y, teste_y = train_test_split(subset, dados_filtrados_y, test_size=0.2)\n",
    "\n",
    "\n",
    "dec_tree = DecisionTreeClassifier(random_state=42)\n",
    "train_and_evaluate(dec_tree, treino_x, teste_x, treino_y, teste_y, show_distribuition = True)\n",
    "\n",
    "param_grid = [\n",
    "    {'splitter': ['random'], 'criterion': ['entropy'], 'max_features': ['auto', 'sqrt', 'log2'] }\n",
    "]\n",
    "\n",
    "\n",
    "dec_tree_cs = DecisionTreeClassifier()\n",
    "\n",
    "\n",
    "#calculate_with_grid_search(dec_tree_cs, param_grid, treino_x, teste_x, treino_y, teste_y)"
   ]
  },
  {
   "cell_type": "code",
   "execution_count": 38,
   "metadata": {},
   "outputs": [
    {
     "data": {
      "text/plain": [
       "'\\nPlotar distribuições de previsões e resultados por status de matricula -> OK\\nUtilizar grid search e verificar quais os melhores possíveis hiperparâmetros -> OK\\n'"
      ]
     },
     "execution_count": 38,
     "metadata": {},
     "output_type": "execute_result"
    }
   ],
   "source": [
    "\"\"\"\n",
    "Plotar distribuições de previsões e resultados por status de matricula -> OK\n",
    "Utilizar grid search e verificar quais os melhores possíveis hiperparâmetros -> OK\n",
    "\"\"\""
   ]
  },
  {
   "cell_type": "code",
   "execution_count": 39,
   "metadata": {},
   "outputs": [
    {
     "data": {
      "image/png": "[encoded data removed]",
      "text/plain": [
       "<Figure size 792x576 with 1 Axes>"
      ]
     },
     "metadata": {
      "needs_background": "light"
     },
     "output_type": "display_data"
    }
   ],
   "source": [
    "dataset[dataset['resultado'] == 0].filter(like=f'atividades_ate_dia_').aggregate('mean').div(18).plot(kind=\"line\", figsize=(10,7.5), linewidth=4)\n",
    "dataset[dataset['resultado'] == 1].filter(like=f'atividades_ate_dia_').aggregate('mean').div(18).plot(kind=\"line\",linewidth=4)\n",
    "dataset[dataset['resultado'] == 2].filter(like=f'atividades_ate_dia_').aggregate('mean').div(18).plot(kind=\"line\",linewidth=4)\n",
    "dataset[dataset['resultado'] == 3].filter(like=f'atividades_ate_dia_').aggregate('mean').div(18).plot(kind=\"line\",linewidth=4)\n",
    "dataset[dataset['resultado'] == 4].filter(like=f'atividades_ate_dia_').aggregate('mean').div(18).plot(kind=\"line\",linewidth=4)\n",
    "\n",
    "plt.legend(['APROVADO', 'ABANDONO', 'TRANCAMENTO', 'REPROVADO', 'DESISTENTE'], fontsize=22)\n",
    "lgd = [i if i in [0, 5, 10, 15, 20, 25, 30] else \"\" for i in range(31)]\n",
    "plt.xticks([i for i in range(31)], lgd, fontsize=22)\n",
    "plt.yticks(fontsize=20)\n",
    "plt.xlabel(\"Dias\", fontsize=20)\n",
    "plt.ylabel(\"Média percentual de atividades realizadas\", fontsize=20)\n",
    "fig = plt.gcf() \n",
    "fig.set_size_inches(11,8)\n",
    "plt.show()"
   ]
  },
  {
   "cell_type": "code",
   "execution_count": 40,
   "metadata": {},
   "outputs": [
    {
     "data": {
      "image/png": "[encoded data removed]",
      "text/plain": [
       "<Figure size 792x576 with 1 Axes>"
      ]
     },
     "metadata": {
      "needs_background": "light"
     },
     "output_type": "display_data"
    }
   ],
   "source": [
    "dataset.filter(like=f'atividades_ate_dia_').aggregate('mean').div(18).plot(kind=\"line\", figsize=(10,7.5), linewidth=4)\n",
    "\n",
    "\n",
    "lgd = [i if i in [0, 5, 10, 15, 20, 25, 30] else \"\" for i in range(31)]\n",
    "plt.xticks([i for i in range(31)], lgd, fontsize=22)\n",
    "plt.yticks(fontsize=20)\n",
    "plt.xlabel(\"Dias\", fontsize=20)\n",
    "plt.ylabel(\"Média percentual de atividades realizadas\", fontsize=20)\n",
    "fig = plt.gcf() \n",
    "fig.set_size_inches(11,8)\n",
    "plt.show()"
   ]
  }
 ],
 "metadata": {
  "kernelspec": {
   "display_name": "kernel-pibic",
   "language": "python",
   "name": "kernel-pibic"
  },
  "language_info": {
   "codemirror_mode": {
    "name": "ipython",
    "version": 3
   },
   "file_extension": ".py",
   "mimetype": "text/x-python",
   "name": "python",
   "nbconvert_exporter": "python",
   "pygments_lexer": "ipython3",
   "version": "3.9.1"
  }
 },
 "nbformat": 4,
 "nbformat_minor": 4
}
