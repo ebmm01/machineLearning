{
 "cells": [
  {
   "cell_type": "code",
   "execution_count": 1,
   "metadata": {},
   "outputs": [],
   "source": [
    "# features (1 sim, 0 não)\n",
    "# pelo longo? \n",
    "# perna curta?\n",
    "# faz auau?\n",
    "porco1 = [0, 1, 0]\n",
    "porco2 = [0, 1, 1]\n",
    "porco3 = [1, 1, 0]\n",
    "\n",
    "cachorro1 = [0, 1, 1]\n",
    "cachorro2 = [1, 0, 1]\n",
    "cachorro3 = [1, 1, 1]\n",
    "\n",
    "# 1 => porco, 0 => cachorro\n",
    "treino_x = [porco1, porco2, porco3, cachorro1, cachorro2, cachorro3]\n",
    "treino_y = [1,1,1,0,0,0]"
   ]
  },
  {
   "cell_type": "code",
   "execution_count": 2,
   "metadata": {},
   "outputs": [
    {
     "data": {
      "text/plain": [
       "LinearSVC(C=1.0, class_weight=None, dual=True, fit_intercept=True,\n",
       "     intercept_scaling=1, loss='squared_hinge', max_iter=1000,\n",
       "     multi_class='ovr', penalty='l2', random_state=None, tol=0.0001,\n",
       "     verbose=0)"
      ]
     },
     "execution_count": 2,
     "metadata": {},
     "output_type": "execute_result"
    }
   ],
   "source": [
    "from sklearn.svm import LinearSVC\n",
    "\n",
    "estimador = LinearSVC()\n",
    "estimador.fit(treino_x, treino_y)"
   ]
  },
  {
   "cell_type": "code",
   "execution_count": 6,
   "metadata": {},
   "outputs": [
    {
     "name": "stdout",
     "output_type": "stream",
     "text": [
      "[[1, 1, 1], [1, 1, 0], [0, 1, 1]] [0, 1, 1] [0 1 0]\n"
     ]
    }
   ],
   "source": [
    "# Cachorro de teste:\n",
    "tester = [1,1,1]\n",
    "estimador.predict([tester])\n",
    "\n",
    "misterio1 = [1,1,1]\n",
    "misterio2 = [1,1,0]\n",
    "misterio3 = [0,1,1]\n",
    "\n",
    "teste_x = [misterio1, misterio2, misterio3]\n",
    "teste_y = [0, 1, 1]\n",
    "\n",
    "previsoes = estimador.predict(teste_x)\n",
    "\n",
    "print(teste_x, teste_y, previsoes)"
   ]
  },
  {
   "cell_type": "code",
   "execution_count": 11,
   "metadata": {},
   "outputs": [
    {
     "name": "stdout",
     "output_type": "stream",
     "text": [
      "Taxa de acerto 66.66666666666666\n"
     ]
    }
   ],
   "source": [
    "from sklearn.metrics import accuracy_score\n",
    "\n",
    "taxa_de_acerto = accuracy_score(teste_y, previsoes)\n",
    "print(\"Taxa de acerto\", taxa_de_acerto * 100)"
   ]
  },
  {
   "cell_type": "code",
   "execution_count": null,
   "metadata": {},
   "outputs": [],
   "source": []
  }
 ],
 "metadata": {
  "kernelspec": {
   "display_name": "Python 3",
   "language": "python",
   "name": "python3"
  },
  "language_info": {
   "codemirror_mode": {
    "name": "ipython",
    "version": 3
   },
   "file_extension": ".py",
   "mimetype": "text/x-python",
   "name": "python",
   "nbconvert_exporter": "python",
   "pygments_lexer": "ipython3",
   "version": "3.7.1"
  }
 },
 "nbformat": 4,
 "nbformat_minor": 2
}
